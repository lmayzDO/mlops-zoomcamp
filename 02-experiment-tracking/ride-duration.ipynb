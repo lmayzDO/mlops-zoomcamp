{
 "cells": [
  {
   "cell_type": "code",
   "execution_count": 1,
   "id": "68b45b0c-8bb2-4096-bc03-3d28495a11b7",
   "metadata": {},
   "outputs": [
    {
     "name": "stdout",
     "output_type": "stream",
     "text": [
      "Python 3.12.7\n"
     ]
    }
   ],
   "source": [
    "!python -V"
   ]
  },
  {
   "cell_type": "code",
   "execution_count": 2,
   "id": "351db381-1765-403e-b3bd-f6bfdab984ac",
   "metadata": {},
   "outputs": [],
   "source": [
    "import numpy as np\n",
    "import pandas as pd\n"
   ]
  },
  {
   "cell_type": "code",
   "execution_count": 3,
   "id": "ad39166a-9f40-4c20-bf9c-7ed8a45f686e",
   "metadata": {},
   "outputs": [],
   "source": [
    "import pickle"
   ]
  },
  {
   "cell_type": "code",
   "execution_count": 4,
   "id": "c834a748-7ad4-4208-88e3-c84556240fe5",
   "metadata": {},
   "outputs": [],
   "source": [
    "import seaborn as sns\n",
    "import matplotlib.pyplot as plt"
   ]
  },
  {
   "cell_type": "code",
   "execution_count": 5,
   "id": "4fb314d6-90cb-4e14-91ab-5535ee8df3ac",
   "metadata": {},
   "outputs": [],
   "source": [
    "from sklearn.feature_extraction import DictVectorizer\n",
    "from sklearn.linear_model import LinearRegression\n",
    "from sklearn.linear_model import Lasso\n",
    "from sklearn.linear_model import Ridge\n",
    "from sklearn.metrics import mean_squared_error"
   ]
  },
  {
   "cell_type": "code",
   "execution_count": 6,
   "id": "dcfeec3e-c288-44f2-bf19-0e55e3c46a10",
   "metadata": {},
   "outputs": [
    {
     "data": {
      "text/plain": [
       "<Experiment: artifact_location='/workspaces/mlops-zoomcamp/02-experiment-tracking/mlruns/1', creation_time=1747474969262, experiment_id='1', last_update_time=1747474969262, lifecycle_stage='active', name='nyc-taxi-experiment', tags={}>"
      ]
     },
     "execution_count": 6,
     "metadata": {},
     "output_type": "execute_result"
    }
   ],
   "source": [
    "import mlflow\n",
    "\n",
    "mlflow.set_tracking_uri(\"sqlite:///mlflow.db\")\n",
    "mlflow.set_experiment(\"nyc-taxi-experiment\")"
   ]
  },
  {
   "cell_type": "code",
   "execution_count": 7,
   "id": "ffc518df-ae8b-439c-9995-7a4d43a54472",
   "metadata": {},
   "outputs": [],
   "source": [
    "df = pd.read_parquet('https://d37ci6vzurychx.cloudfront.net/trip-data/yellow_tripdata_2023-01.parquet') "
   ]
  },
  {
   "cell_type": "code",
   "execution_count": 8,
   "id": "13db0594-6a33-4e3c-b605-7d063208d143",
   "metadata": {},
   "outputs": [
    {
     "data": {
      "text/html": [
       "<div>\n",
       "<style scoped>\n",
       "    .dataframe tbody tr th:only-of-type {\n",
       "        vertical-align: middle;\n",
       "    }\n",
       "\n",
       "    .dataframe tbody tr th {\n",
       "        vertical-align: top;\n",
       "    }\n",
       "\n",
       "    .dataframe thead th {\n",
       "        text-align: right;\n",
       "    }\n",
       "</style>\n",
       "<table border=\"1\" class=\"dataframe\">\n",
       "  <thead>\n",
       "    <tr style=\"text-align: right;\">\n",
       "      <th></th>\n",
       "      <th>VendorID</th>\n",
       "      <th>tpep_pickup_datetime</th>\n",
       "      <th>tpep_dropoff_datetime</th>\n",
       "      <th>passenger_count</th>\n",
       "      <th>trip_distance</th>\n",
       "      <th>RatecodeID</th>\n",
       "      <th>store_and_fwd_flag</th>\n",
       "      <th>PULocationID</th>\n",
       "      <th>DOLocationID</th>\n",
       "      <th>payment_type</th>\n",
       "      <th>fare_amount</th>\n",
       "      <th>extra</th>\n",
       "      <th>mta_tax</th>\n",
       "      <th>tip_amount</th>\n",
       "      <th>tolls_amount</th>\n",
       "      <th>improvement_surcharge</th>\n",
       "      <th>total_amount</th>\n",
       "      <th>congestion_surcharge</th>\n",
       "      <th>airport_fee</th>\n",
       "    </tr>\n",
       "  </thead>\n",
       "  <tbody>\n",
       "    <tr>\n",
       "      <th>0</th>\n",
       "      <td>2</td>\n",
       "      <td>2023-01-01 00:32:10</td>\n",
       "      <td>2023-01-01 00:40:36</td>\n",
       "      <td>1.0</td>\n",
       "      <td>0.97</td>\n",
       "      <td>1.0</td>\n",
       "      <td>N</td>\n",
       "      <td>161</td>\n",
       "      <td>141</td>\n",
       "      <td>2</td>\n",
       "      <td>9.3</td>\n",
       "      <td>1.00</td>\n",
       "      <td>0.5</td>\n",
       "      <td>0.00</td>\n",
       "      <td>0.0</td>\n",
       "      <td>1.0</td>\n",
       "      <td>14.30</td>\n",
       "      <td>2.5</td>\n",
       "      <td>0.00</td>\n",
       "    </tr>\n",
       "    <tr>\n",
       "      <th>1</th>\n",
       "      <td>2</td>\n",
       "      <td>2023-01-01 00:55:08</td>\n",
       "      <td>2023-01-01 01:01:27</td>\n",
       "      <td>1.0</td>\n",
       "      <td>1.10</td>\n",
       "      <td>1.0</td>\n",
       "      <td>N</td>\n",
       "      <td>43</td>\n",
       "      <td>237</td>\n",
       "      <td>1</td>\n",
       "      <td>7.9</td>\n",
       "      <td>1.00</td>\n",
       "      <td>0.5</td>\n",
       "      <td>4.00</td>\n",
       "      <td>0.0</td>\n",
       "      <td>1.0</td>\n",
       "      <td>16.90</td>\n",
       "      <td>2.5</td>\n",
       "      <td>0.00</td>\n",
       "    </tr>\n",
       "    <tr>\n",
       "      <th>2</th>\n",
       "      <td>2</td>\n",
       "      <td>2023-01-01 00:25:04</td>\n",
       "      <td>2023-01-01 00:37:49</td>\n",
       "      <td>1.0</td>\n",
       "      <td>2.51</td>\n",
       "      <td>1.0</td>\n",
       "      <td>N</td>\n",
       "      <td>48</td>\n",
       "      <td>238</td>\n",
       "      <td>1</td>\n",
       "      <td>14.9</td>\n",
       "      <td>1.00</td>\n",
       "      <td>0.5</td>\n",
       "      <td>15.00</td>\n",
       "      <td>0.0</td>\n",
       "      <td>1.0</td>\n",
       "      <td>34.90</td>\n",
       "      <td>2.5</td>\n",
       "      <td>0.00</td>\n",
       "    </tr>\n",
       "    <tr>\n",
       "      <th>3</th>\n",
       "      <td>1</td>\n",
       "      <td>2023-01-01 00:03:48</td>\n",
       "      <td>2023-01-01 00:13:25</td>\n",
       "      <td>0.0</td>\n",
       "      <td>1.90</td>\n",
       "      <td>1.0</td>\n",
       "      <td>N</td>\n",
       "      <td>138</td>\n",
       "      <td>7</td>\n",
       "      <td>1</td>\n",
       "      <td>12.1</td>\n",
       "      <td>7.25</td>\n",
       "      <td>0.5</td>\n",
       "      <td>0.00</td>\n",
       "      <td>0.0</td>\n",
       "      <td>1.0</td>\n",
       "      <td>20.85</td>\n",
       "      <td>0.0</td>\n",
       "      <td>1.25</td>\n",
       "    </tr>\n",
       "    <tr>\n",
       "      <th>4</th>\n",
       "      <td>2</td>\n",
       "      <td>2023-01-01 00:10:29</td>\n",
       "      <td>2023-01-01 00:21:19</td>\n",
       "      <td>1.0</td>\n",
       "      <td>1.43</td>\n",
       "      <td>1.0</td>\n",
       "      <td>N</td>\n",
       "      <td>107</td>\n",
       "      <td>79</td>\n",
       "      <td>1</td>\n",
       "      <td>11.4</td>\n",
       "      <td>1.00</td>\n",
       "      <td>0.5</td>\n",
       "      <td>3.28</td>\n",
       "      <td>0.0</td>\n",
       "      <td>1.0</td>\n",
       "      <td>19.68</td>\n",
       "      <td>2.5</td>\n",
       "      <td>0.00</td>\n",
       "    </tr>\n",
       "  </tbody>\n",
       "</table>\n",
       "</div>"
      ],
      "text/plain": [
       "   VendorID tpep_pickup_datetime tpep_dropoff_datetime  passenger_count  \\\n",
       "0         2  2023-01-01 00:32:10   2023-01-01 00:40:36              1.0   \n",
       "1         2  2023-01-01 00:55:08   2023-01-01 01:01:27              1.0   \n",
       "2         2  2023-01-01 00:25:04   2023-01-01 00:37:49              1.0   \n",
       "3         1  2023-01-01 00:03:48   2023-01-01 00:13:25              0.0   \n",
       "4         2  2023-01-01 00:10:29   2023-01-01 00:21:19              1.0   \n",
       "\n",
       "   trip_distance  RatecodeID store_and_fwd_flag  PULocationID  DOLocationID  \\\n",
       "0           0.97         1.0                  N           161           141   \n",
       "1           1.10         1.0                  N            43           237   \n",
       "2           2.51         1.0                  N            48           238   \n",
       "3           1.90         1.0                  N           138             7   \n",
       "4           1.43         1.0                  N           107            79   \n",
       "\n",
       "   payment_type  fare_amount  extra  mta_tax  tip_amount  tolls_amount  \\\n",
       "0             2          9.3   1.00      0.5        0.00           0.0   \n",
       "1             1          7.9   1.00      0.5        4.00           0.0   \n",
       "2             1         14.9   1.00      0.5       15.00           0.0   \n",
       "3             1         12.1   7.25      0.5        0.00           0.0   \n",
       "4             1         11.4   1.00      0.5        3.28           0.0   \n",
       "\n",
       "   improvement_surcharge  total_amount  congestion_surcharge  airport_fee  \n",
       "0                    1.0         14.30                   2.5         0.00  \n",
       "1                    1.0         16.90                   2.5         0.00  \n",
       "2                    1.0         34.90                   2.5         0.00  \n",
       "3                    1.0         20.85                   0.0         1.25  \n",
       "4                    1.0         19.68                   2.5         0.00  "
      ]
     },
     "execution_count": 8,
     "metadata": {},
     "output_type": "execute_result"
    }
   ],
   "source": [
    "df.head()"
   ]
  },
  {
   "cell_type": "code",
   "execution_count": 9,
   "id": "52cdd858-63ad-4457-83c6-b37a8720a9b3",
   "metadata": {},
   "outputs": [],
   "source": [
    "def read_dataframe(filename):\n",
    "    df = pd.read_parquet(filename) \n",
    "\n",
    "    df['duration'] = df.tpep_dropoff_datetime - df.tpep_pickup_datetime\n",
    "    df.duration = df.duration.apply(lambda td: td.total_seconds() / 60)\n",
    "\n",
    "    df = df[(df.duration >= 1) & (df.duration <= 60)]\n",
    "    categorical = ['PULocationID', 'DOLocationID']\n",
    "    numerical = ['trip_distance']\n",
    "    #df.loc[:, categorical] = df.loc[:, categorical].astype(str)\n",
    "    df[categorical] = df[categorical].astype(str)\n",
    "\n",
    "    return df, categorical, numerical"
   ]
  },
  {
   "cell_type": "code",
   "execution_count": 10,
   "id": "245dd40f-6da6-426b-beee-0a1fab5da8a8",
   "metadata": {},
   "outputs": [],
   "source": [
    "df_train,categorical_train, numerical_train = read_dataframe('https://d37ci6vzurychx.cloudfront.net/trip-data/yellow_tripdata_2023-01.parquet')"
   ]
  },
  {
   "cell_type": "code",
   "execution_count": 11,
   "id": "517ac986-666a-4a2c-8d49-89f145de3581",
   "metadata": {},
   "outputs": [],
   "source": [
    "df_train.head()\n",
    "categorical = ['PULocationID', 'DOLocationID']\n",
    "numerical = ['trip_distance']"
   ]
  },
  {
   "cell_type": "code",
   "execution_count": 12,
   "id": "64f6d2b9-7da0-4746-8e60-0a560e0ca164",
   "metadata": {},
   "outputs": [],
   "source": [
    "df_val,categorical_val, numerical_val = read_dataframe('https://d37ci6vzurychx.cloudfront.net/trip-data/yellow_tripdata_2023-02.parquet')"
   ]
  },
  {
   "cell_type": "code",
   "execution_count": 13,
   "id": "a4cdf7d4-fb46-4b40-8c29-fd5777a13f18",
   "metadata": {},
   "outputs": [
    {
     "data": {
      "text/plain": [
       "(3009173, 2855951)"
      ]
     },
     "execution_count": 13,
     "metadata": {},
     "output_type": "execute_result"
    }
   ],
   "source": [
    "len(df_train), len(df_val)"
   ]
  },
  {
   "cell_type": "code",
   "execution_count": 14,
   "id": "98e32ae5-6257-4710-84a6-0f1dd6503d14",
   "metadata": {},
   "outputs": [
    {
     "data": {
      "text/plain": [
       "9.939385620145579"
      ]
     },
     "execution_count": 14,
     "metadata": {},
     "output_type": "execute_result"
    }
   ],
   "source": [
    "df_train['duration'].std()"
   ]
  },
  {
   "cell_type": "code",
   "execution_count": 15,
   "id": "4cb9b52f-05bb-4644-856d-3b4587755f2b",
   "metadata": {},
   "outputs": [],
   "source": [
    "df_train['PU_DO'] = df_train['PULocationID'] + '_' + df_train['DOLocationID']\n",
    "df_val['PU_DO'] = df_val['PULocationID'] + '_' + df_val['DOLocationID']"
   ]
  },
  {
   "cell_type": "code",
   "execution_count": 16,
   "id": "52e0b308-8867-40dd-ad46-420b7a770c2f",
   "metadata": {},
   "outputs": [],
   "source": [
    "#categorical = ['PU_DO'] #['PULocationID', 'DOLocationID']\n",
    "#numerical = ['trip_distance']\n",
    "\n",
    "dv = DictVectorizer()\n",
    "train_dicts = df_train[categorical + numerical].to_dict(orient='records')\n",
    "\n",
    "X_train = dv.fit_transform(train_dicts)\n",
    "\n",
    "val_dicts = df_val[categorical + numerical].to_dict(orient='records')\n",
    "X_val = dv.transform(val_dicts)"
   ]
  },
  {
   "cell_type": "code",
   "execution_count": 17,
   "id": "958e3e74-b5b7-4372-8586-7ed00bf40ac4",
   "metadata": {},
   "outputs": [],
   "source": [
    "target = 'duration'\n",
    "y_train = df_train[target].values\n",
    "y_val = df_val[target].values"
   ]
  },
  {
   "cell_type": "code",
   "execution_count": 18,
   "id": "d2cc3dc7-0633-493a-a48e-783970cc8511",
   "metadata": {},
   "outputs": [],
   "source": [
    "lr = LinearRegression()\n",
    "lr.fit(X_train, y_train)\n",
    "\n",
    "y_train_pred = lr.predict(X_train)\n",
    "\n",
    "\n",
    "y_pred = lr.predict(X_val)\n",
    "\n"
   ]
  },
  {
   "cell_type": "code",
   "execution_count": 19,
   "id": "1bc0e048-c3d8-4dd1-bca5-78de03a08005",
   "metadata": {},
   "outputs": [
    {
     "data": {
      "text/plain": [
       "(2855951, 2855951, 3009173)"
      ]
     },
     "execution_count": 19,
     "metadata": {},
     "output_type": "execute_result"
    }
   ],
   "source": [
    "(y_val.size, y_pred.size, y_train.size)"
   ]
  },
  {
   "cell_type": "code",
   "execution_count": 20,
   "id": "899aea19-da4d-45c7-ae00-abd5c1b319ab",
   "metadata": {},
   "outputs": [
    {
     "name": "stdout",
     "output_type": "stream",
     "text": [
      "7.656752061706073\n"
     ]
    }
   ],
   "source": [
    "mse_train = mean_squared_error(y_train, y_train_pred)\n",
    "rmse_train = np.sqrt(mse_train)\n",
    "print(rmse_train)"
   ]
  },
  {
   "cell_type": "code",
   "execution_count": 21,
   "id": "ad076550-2b30-4c43-90dd-16f4ab768486",
   "metadata": {},
   "outputs": [
    {
     "data": {
      "text/plain": [
       "7.818625928637492"
      ]
     },
     "execution_count": 21,
     "metadata": {},
     "output_type": "execute_result"
    }
   ],
   "source": [
    "np.sqrt(mean_squared_error(y_val, y_pred))"
   ]
  },
  {
   "cell_type": "code",
   "execution_count": 22,
   "id": "f257da7f-7755-4285-8bcc-bc04923b7af8",
   "metadata": {},
   "outputs": [],
   "source": [
    "with open('models/lin_reg.bin','wb') as f_out:\n",
    "    pickle.dump((dv, lr), f_out)"
   ]
  },
  {
   "cell_type": "code",
   "execution_count": 23,
   "id": "8abda3f1-5e32-4cb5-9478-50ade43a346b",
   "metadata": {},
   "outputs": [],
   "source": [
    "with mlflow.start_run():\n",
    "\n",
    "    mlflow.set_tag(\"developer\", \"luis\")\n",
    "\n",
    "    mlflow.log_param(\"train-data-path\", \"/trip-data/yellow_tripdata_2023-01.parquet\")\n",
    "    mlflow.log_param(\"valid-data-path\", \"/trip-data/yellow_tripdata_2023-02.parquet\")\n",
    "\n",
    "    alpha = 0.1\n",
    "    \n",
    "    lr = Lasso(alpha)\n",
    "    lr.fit(X_train, y_train)\n",
    "    \n",
    "    y_pred = lr.predict(X_val)\n",
    "    \n",
    "    rmse = np.sqrt(mean_squared_error(y_val, y_pred))\n",
    "    mlflow.log_metric(\"rmse\", rmse)\n",
    "    mlflow.log_metric(\"alpha\", alpha)"
   ]
  },
  {
   "cell_type": "code",
   "execution_count": null,
   "id": "19278a16-5c71-4ccb-910f-ad80994190bd",
   "metadata": {},
   "outputs": [],
   "source": []
  },
  {
   "cell_type": "code",
   "execution_count": 24,
   "id": "6f1f4166-16a5-4dce-9970-f4b2c3525437",
   "metadata": {},
   "outputs": [],
   "source": [
    "import xgboost as xgb"
   ]
  },
  {
   "cell_type": "code",
   "execution_count": 25,
   "id": "cb748252-b9ba-4e5f-a351-eb93dd282317",
   "metadata": {},
   "outputs": [],
   "source": [
    "def objective(params):\n",
    "    with mlflow.start_run():\n",
    "        mlflow.set_tag(\"model\", \"xgboost\")\n",
    "        mlflow.log_params(params)\n",
    "        booster = xgb.train(\n",
    "            params=params,\n",
    "            dtrain=train,\n",
    "            num_boost_round=60,\n",
    "            evals=[(valid, 'validation')],\n",
    "            early_stopping_rounds=20\n",
    "        )\n",
    "        y_pred = booster.predict(valid)\n",
    "        rmse = np.sqrt(mean_squared_error(y_val, y_pred))\n",
    "        mlflow.log_metric(\"rmse\", rmse)\n",
    "\n",
    "    return {'loss': rmse, 'status': STATUS_OK}"
   ]
  },
  {
   "cell_type": "code",
   "execution_count": 26,
   "id": "673b65b9-134d-4db5-ae36-8cb2cd925070",
   "metadata": {},
   "outputs": [],
   "source": [
    "from hyperopt import fmin, tpe, hp, STATUS_OK, Trials\n",
    "from hyperopt.pyll import scope"
   ]
  },
  {
   "cell_type": "code",
   "execution_count": 27,
   "id": "a3f6fa3e-d361-435d-a6de-5664c3e2211a",
   "metadata": {},
   "outputs": [],
   "source": [
    "train = xgb.DMatrix(X_train, label=y_train)\n",
    "valid = xgb.DMatrix(X_val, label=y_val)"
   ]
  },
  {
   "cell_type": "code",
   "execution_count": 33,
   "id": "a9c9af08-a6d5-45eb-b0f3-861874c1dd89",
   "metadata": {},
   "outputs": [
    {
     "name": "stdout",
     "output_type": "stream",
     "text": [
      "  0%|                                                                                                                                     | 0/50 [00:00<?, ?trial/s, best loss=?]"
     ]
    },
    {
     "name": "stderr",
     "output_type": "stream",
     "text": [
      "/home/codespace/anaconda3/lib/python3.12/site-packages/xgboost/callback.py:386: UserWarning: [09:32:52] WARNING: /workspace/src/objective/regression_obj.cu:250: reg:linear is now deprecated in favor of reg:squarederror.\n",
      "  self.starting_round = model.num_boosted_rounds()\n",
      "\n"
     ]
    },
    {
     "name": "stdout",
     "output_type": "stream",
     "text": [
      "[0]\tvalidation-rmse:9.50591                                                                                                                                                      \n",
      "[1]\tvalidation-rmse:8.99343                                                                                                                                                      \n",
      "[2]\tvalidation-rmse:8.52874                                                                                                                                                      \n",
      "[3]\tvalidation-rmse:8.10832                                                                                                                                                      \n",
      "[4]\tvalidation-rmse:7.72835                                                                                                                                                      \n",
      "[5]\tvalidation-rmse:7.38551                                                                                                                                                      \n",
      "[6]\tvalidation-rmse:7.07443                                                                                                                                                      \n",
      "[7]\tvalidation-rmse:6.79753                                                                                                                                                      \n",
      "[8]\tvalidation-rmse:6.54646                                                                                                                                                      \n",
      "[9]\tvalidation-rmse:6.32370                                                                                                                                                      \n",
      "[10]\tvalidation-rmse:6.12367                                                                                                                                                     \n",
      "[11]\tvalidation-rmse:5.94749                                                                                                                                                     \n",
      "[12]\tvalidation-rmse:5.79043                                                                                                                                                     \n",
      "[13]\tvalidation-rmse:5.64911                                                                                                                                                     \n",
      "[14]\tvalidation-rmse:5.52616                                                                                                                                                     \n",
      "[15]\tvalidation-rmse:5.41743                                                                                                                                                     \n",
      "[16]\tvalidation-rmse:5.31891                                                                                                                                                     \n",
      "[17]\tvalidation-rmse:5.23490                                                                                                                                                     \n",
      "[18]\tvalidation-rmse:5.16119                                                                                                                                                     \n",
      "[19]\tvalidation-rmse:5.09612                                                                                                                                                     \n",
      "[20]\tvalidation-rmse:5.03904                                                                                                                                                     \n",
      "[21]\tvalidation-rmse:4.98667                                                                                                                                                     \n",
      "[22]\tvalidation-rmse:4.94299                                                                                                                                                     \n",
      "[23]\tvalidation-rmse:4.90456                                                                                                                                                     \n",
      "[24]\tvalidation-rmse:4.86910                                                                                                                                                     \n",
      "[25]\tvalidation-rmse:4.83959                                                                                                                                                     \n",
      "[26]\tvalidation-rmse:4.81321                                                                                                                                                     \n",
      "[27]\tvalidation-rmse:4.79026                                                                                                                                                     \n",
      "[28]\tvalidation-rmse:4.76974                                                                                                                                                     \n",
      "[29]\tvalidation-rmse:4.75172                                                                                                                                                     \n",
      "[30]\tvalidation-rmse:4.73606                                                                                                                                                     \n",
      "[31]\tvalidation-rmse:4.72253                                                                                                                                                     \n",
      "[32]\tvalidation-rmse:4.71048                                                                                                                                                     \n",
      "[33]\tvalidation-rmse:4.69996                                                                                                                                                     \n",
      "[34]\tvalidation-rmse:4.68909                                                                                                                                                     \n",
      "[35]\tvalidation-rmse:4.68078                                                                                                                                                     \n",
      "[36]\tvalidation-rmse:4.67340                                                                                                                                                     \n",
      "[37]\tvalidation-rmse:4.66701                                                                                                                                                     \n",
      "[38]\tvalidation-rmse:4.66113                                                                                                                                                     \n",
      "[39]\tvalidation-rmse:4.65600                                                                                                                                                     \n",
      "[40]\tvalidation-rmse:4.64943                                                                                                                                                     \n",
      "[41]\tvalidation-rmse:4.64504                                                                                                                                                     \n",
      "[42]\tvalidation-rmse:4.64161                                                                                                                                                     \n",
      "[43]\tvalidation-rmse:4.63817                                                                                                                                                     \n",
      "[44]\tvalidation-rmse:4.63406                                                                                                                                                     \n",
      "[45]\tvalidation-rmse:4.63096                                                                                                                                                     \n",
      "[46]\tvalidation-rmse:4.62871                                                                                                                                                     \n",
      "[47]\tvalidation-rmse:4.62660                                                                                                                                                     \n",
      "[48]\tvalidation-rmse:4.62469                                                                                                                                                     \n",
      "[49]\tvalidation-rmse:4.62292                                                                                                                                                     \n",
      "[50]\tvalidation-rmse:4.62124                                                                                                                                                     \n",
      "[51]\tvalidation-rmse:4.61975                                                                                                                                                     \n",
      "[52]\tvalidation-rmse:4.61847                                                                                                                                                     \n",
      "[53]\tvalidation-rmse:4.61721                                                                                                                                                     \n",
      "[54]\tvalidation-rmse:4.61599                                                                                                                                                     \n",
      "[55]\tvalidation-rmse:4.61510                                                                                                                                                     \n",
      "[56]\tvalidation-rmse:4.61426                                                                                                                                                     \n",
      "[57]\tvalidation-rmse:4.61334                                                                                                                                                     \n",
      "[58]\tvalidation-rmse:4.61264                                                                                                                                                     \n",
      "[59]\tvalidation-rmse:4.61188                                                                                                                                                     \n",
      "  2%|██                                                                                                        | 1/50 [03:50<3:08:26, 230.74s/trial, best loss: 4.61188090290676]"
     ]
    },
    {
     "name": "stderr",
     "output_type": "stream",
     "text": [
      "/home/codespace/anaconda3/lib/python3.12/site-packages/xgboost/callback.py:386: UserWarning: [09:36:43] WARNING: /workspace/src/objective/regression_obj.cu:250: reg:linear is now deprecated in favor of reg:squarederror.\n",
      "  self.starting_round = model.num_boosted_rounds()\n",
      "\n"
     ]
    },
    {
     "name": "stdout",
     "output_type": "stream",
     "text": [
      "[0]\tvalidation-rmse:6.75457                                                                                                                                                      \n",
      "[1]\tvalidation-rmse:5.50262                                                                                                                                                      \n",
      "[2]\tvalidation-rmse:5.07781                                                                                                                                                      \n",
      "[3]\tvalidation-rmse:4.92264                                                                                                                                                      \n",
      "[4]\tvalidation-rmse:4.85634                                                                                                                                                      \n",
      "[5]\tvalidation-rmse:4.82043                                                                                                                                                      \n",
      "[6]\tvalidation-rmse:4.80049                                                                                                                                                      \n",
      "[7]\tvalidation-rmse:4.78237                                                                                                                                                      \n",
      "[8]\tvalidation-rmse:4.77215                                                                                                                                                      \n",
      "[9]\tvalidation-rmse:4.76230                                                                                                                                                      \n",
      "[10]\tvalidation-rmse:4.75058                                                                                                                                                     \n",
      "[11]\tvalidation-rmse:4.74204                                                                                                                                                     \n",
      "[12]\tvalidation-rmse:4.73768                                                                                                                                                     \n",
      "[13]\tvalidation-rmse:4.72928                                                                                                                                                     \n",
      "[14]\tvalidation-rmse:4.72171                                                                                                                                                     \n",
      "[15]\tvalidation-rmse:4.71625                                                                                                                                                     \n",
      "[16]\tvalidation-rmse:4.71092                                                                                                                                                     \n",
      "[17]\tvalidation-rmse:4.70119                                                                                                                                                     \n",
      "[18]\tvalidation-rmse:4.69369                                                                                                                                                     \n",
      "[19]\tvalidation-rmse:4.68967                                                                                                                                                     \n",
      "[20]\tvalidation-rmse:4.68759                                                                                                                                                     \n",
      "[21]\tvalidation-rmse:4.68493                                                                                                                                                     \n",
      "[22]\tvalidation-rmse:4.67776                                                                                                                                                     \n",
      "[23]\tvalidation-rmse:4.67594                                                                                                                                                     \n",
      "[24]\tvalidation-rmse:4.67323                                                                                                                                                     \n",
      "[25]\tvalidation-rmse:4.67108                                                                                                                                                     \n",
      "[26]\tvalidation-rmse:4.66586                                                                                                                                                     \n",
      "[27]\tvalidation-rmse:4.66405                                                                                                                                                     \n",
      "[28]\tvalidation-rmse:4.66071                                                                                                                                                     \n",
      "[29]\tvalidation-rmse:4.65885                                                                                                                                                     \n",
      "[30]\tvalidation-rmse:4.65641                                                                                                                                                     \n",
      "[31]\tvalidation-rmse:4.64953                                                                                                                                                     \n",
      "[32]\tvalidation-rmse:4.64636                                                                                                                                                     \n",
      "[33]\tvalidation-rmse:4.64546                                                                                                                                                     \n",
      "[34]\tvalidation-rmse:4.64338                                                                                                                                                     \n",
      "[35]\tvalidation-rmse:4.64040                                                                                                                                                     \n",
      "[36]\tvalidation-rmse:4.63955                                                                                                                                                     \n",
      "[37]\tvalidation-rmse:4.63590                                                                                                                                                     \n",
      "[38]\tvalidation-rmse:4.63484                                                                                                                                                     \n",
      "[39]\tvalidation-rmse:4.63272                                                                                                                                                     \n",
      "[40]\tvalidation-rmse:4.62877                                                                                                                                                     \n",
      "[41]\tvalidation-rmse:4.62701                                                                                                                                                     \n",
      "[42]\tvalidation-rmse:4.62520                                                                                                                                                     \n",
      "[43]\tvalidation-rmse:4.62435                                                                                                                                                     \n",
      "[44]\tvalidation-rmse:4.62129                                                                                                                                                     \n",
      "[45]\tvalidation-rmse:4.61747                                                                                                                                                     \n",
      "[46]\tvalidation-rmse:4.61541                                                                                                                                                     \n",
      "[47]\tvalidation-rmse:4.61467                                                                                                                                                     \n",
      "[48]\tvalidation-rmse:4.61340                                                                                                                                                     \n",
      "[49]\tvalidation-rmse:4.61212                                                                                                                                                     \n",
      "[50]\tvalidation-rmse:4.61010                                                                                                                                                     \n",
      "[51]\tvalidation-rmse:4.60824                                                                                                                                                     \n",
      "[52]\tvalidation-rmse:4.60738                                                                                                                                                     \n",
      "[53]\tvalidation-rmse:4.60661                                                                                                                                                     \n",
      "[54]\tvalidation-rmse:4.60414                                                                                                                                                     \n",
      "[55]\tvalidation-rmse:4.60394                                                                                                                                                     \n",
      "[56]\tvalidation-rmse:4.60369                                                                                                                                                     \n",
      "[57]\tvalidation-rmse:4.60294                                                                                                                                                     \n",
      "[58]\tvalidation-rmse:4.59912                                                                                                                                                     \n",
      "[59]\tvalidation-rmse:4.59427                                                                                                                                                     \n",
      "  4%|████▏                                                                                                    | 2/50 [04:15<1:27:28, 109.34s/trial, best loss: 4.594265719571116]"
     ]
    },
    {
     "name": "stderr",
     "output_type": "stream",
     "text": [
      "/home/codespace/anaconda3/lib/python3.12/site-packages/xgboost/callback.py:386: UserWarning: [09:37:07] WARNING: /workspace/src/objective/regression_obj.cu:250: reg:linear is now deprecated in favor of reg:squarederror.\n",
      "  self.starting_round = model.num_boosted_rounds()\n",
      "\n"
     ]
    },
    {
     "name": "stdout",
     "output_type": "stream",
     "text": [
      "[0]\tvalidation-rmse:6.12998                                                                                                                                                      \n",
      "[1]\tvalidation-rmse:4.99218                                                                                                                                                      \n",
      "[2]\tvalidation-rmse:4.73475                                                                                                                                                      \n",
      "[3]\tvalidation-rmse:4.67758                                                                                                                                                      \n",
      "[4]\tvalidation-rmse:4.66643                                                                                                                                                      \n",
      "[5]\tvalidation-rmse:4.66604                                                                                                                                                      \n",
      "[6]\tvalidation-rmse:4.66723                                                                                                                                                      \n",
      "[7]\tvalidation-rmse:4.67091                                                                                                                                                      \n",
      "[8]\tvalidation-rmse:4.67041                                                                                                                                                      \n",
      "[9]\tvalidation-rmse:4.67213                                                                                                                                                      \n",
      "[10]\tvalidation-rmse:4.67333                                                                                                                                                     \n",
      "[11]\tvalidation-rmse:4.67555                                                                                                                                                     \n",
      "[12]\tvalidation-rmse:4.67624                                                                                                                                                     \n",
      "[13]\tvalidation-rmse:4.67725                                                                                                                                                     \n",
      "[14]\tvalidation-rmse:4.67897                                                                                                                                                     \n",
      "[15]\tvalidation-rmse:4.68097                                                                                                                                                     \n",
      "[16]\tvalidation-rmse:4.68208                                                                                                                                                     \n",
      "[17]\tvalidation-rmse:4.68585                                                                                                                                                     \n",
      "[18]\tvalidation-rmse:4.68741                                                                                                                                                     \n",
      "[19]\tvalidation-rmse:4.69022                                                                                                                                                     \n",
      "[20]\tvalidation-rmse:4.69187                                                                                                                                                     \n",
      "[21]\tvalidation-rmse:4.69245                                                                                                                                                     \n",
      "[22]\tvalidation-rmse:4.69333                                                                                                                                                     \n",
      "[23]\tvalidation-rmse:4.69638                                                                                                                                                     \n",
      "[24]\tvalidation-rmse:4.69712                                                                                                                                                     \n",
      "[25]\tvalidation-rmse:4.69943                                                                                                                                                     \n",
      "  6%|██████▎                                                                                                  | 3/50 [05:49<1:20:09, 102.32s/trial, best loss: 4.594265719571116]"
     ]
    },
    {
     "name": "stderr",
     "output_type": "stream",
     "text": [
      "/home/codespace/anaconda3/lib/python3.12/site-packages/xgboost/callback.py:386: UserWarning: [09:38:41] WARNING: /workspace/src/objective/regression_obj.cu:250: reg:linear is now deprecated in favor of reg:squarederror.\n",
      "  self.starting_round = model.num_boosted_rounds()\n",
      "\n"
     ]
    },
    {
     "name": "stdout",
     "output_type": "stream",
     "text": [
      "[0]\tvalidation-rmse:8.13997                                                                                                                                                      \n",
      "[1]\tvalidation-rmse:6.84962                                                                                                                                                      \n",
      "[2]\tvalidation-rmse:6.01434                                                                                                                                                      \n",
      "[3]\tvalidation-rmse:5.48186                                                                                                                                                      \n",
      "[4]\tvalidation-rmse:5.16235                                                                                                                                                      \n",
      "[5]\tvalidation-rmse:4.96590                                                                                                                                                      \n",
      "[6]\tvalidation-rmse:4.84888                                                                                                                                                      \n",
      "[7]\tvalidation-rmse:4.77426                                                                                                                                                      \n",
      "[8]\tvalidation-rmse:4.72183                                                                                                                                                      \n",
      "[9]\tvalidation-rmse:4.69109                                                                                                                                                      \n",
      "[10]\tvalidation-rmse:4.67059                                                                                                                                                     \n",
      "[11]\tvalidation-rmse:4.65521                                                                                                                                                     \n",
      "[12]\tvalidation-rmse:4.64369                                                                                                                                                     \n",
      "[13]\tvalidation-rmse:4.63559                                                                                                                                                     \n",
      "[14]\tvalidation-rmse:4.62987                                                                                                                                                     \n",
      "[15]\tvalidation-rmse:4.62436                                                                                                                                                     \n",
      "[16]\tvalidation-rmse:4.61987                                                                                                                                                     \n",
      "[17]\tvalidation-rmse:4.61663                                                                                                                                                     \n",
      "[18]\tvalidation-rmse:4.61364                                                                                                                                                     \n",
      "[19]\tvalidation-rmse:4.60995                                                                                                                                                     \n",
      "[20]\tvalidation-rmse:4.60843                                                                                                                                                     \n",
      "[21]\tvalidation-rmse:4.60650                                                                                                                                                     \n",
      "[22]\tvalidation-rmse:4.60454                                                                                                                                                     \n",
      "[23]\tvalidation-rmse:4.59897                                                                                                                                                     \n",
      "[24]\tvalidation-rmse:4.59797                                                                                                                                                     \n",
      "[25]\tvalidation-rmse:4.59710                                                                                                                                                     \n",
      "[26]\tvalidation-rmse:4.59548                                                                                                                                                     \n",
      "[27]\tvalidation-rmse:4.59282                                                                                                                                                     \n",
      "[28]\tvalidation-rmse:4.59090                                                                                                                                                     \n",
      "[29]\tvalidation-rmse:4.58695                                                                                                                                                     \n",
      "[30]\tvalidation-rmse:4.58377                                                                                                                                                     \n",
      "[31]\tvalidation-rmse:4.57999                                                                                                                                                     \n",
      "[32]\tvalidation-rmse:4.57940                                                                                                                                                     \n",
      "[33]\tvalidation-rmse:4.57892                                                                                                                                                     \n",
      "[34]\tvalidation-rmse:4.57847                                                                                                                                                     \n",
      "[35]\tvalidation-rmse:4.57729                                                                                                                                                     \n",
      "[36]\tvalidation-rmse:4.57542                                                                                                                                                     \n",
      "[37]\tvalidation-rmse:4.57422                                                                                                                                                     \n",
      "[38]\tvalidation-rmse:4.57225                                                                                                                                                     \n",
      "[39]\tvalidation-rmse:4.57091                                                                                                                                                     \n",
      "[40]\tvalidation-rmse:4.56892                                                                                                                                                     \n",
      "[41]\tvalidation-rmse:4.56798                                                                                                                                                     \n",
      "[42]\tvalidation-rmse:4.56753                                                                                                                                                     \n",
      "[43]\tvalidation-rmse:4.56716                                                                                                                                                     \n",
      "[44]\tvalidation-rmse:4.56678                                                                                                                                                     \n",
      "[45]\tvalidation-rmse:4.56414                                                                                                                                                     \n",
      "[46]\tvalidation-rmse:4.56321                                                                                                                                                     \n",
      "[47]\tvalidation-rmse:4.56223                                                                                                                                                     \n",
      "[48]\tvalidation-rmse:4.56194                                                                                                                                                     \n",
      "[49]\tvalidation-rmse:4.56076                                                                                                                                                     \n",
      "[50]\tvalidation-rmse:4.55655                                                                                                                                                     \n",
      "[51]\tvalidation-rmse:4.55570                                                                                                                                                     \n",
      "[52]\tvalidation-rmse:4.55529                                                                                                                                                     \n",
      "[53]\tvalidation-rmse:4.55501                                                                                                                                                     \n",
      "[54]\tvalidation-rmse:4.55431                                                                                                                                                     \n",
      "[55]\tvalidation-rmse:4.55389                                                                                                                                                     \n",
      "[56]\tvalidation-rmse:4.55228                                                                                                                                                     \n",
      "[57]\tvalidation-rmse:4.55204                                                                                                                                                     \n",
      "[58]\tvalidation-rmse:4.55180                                                                                                                                                     \n",
      "[59]\tvalidation-rmse:4.55129                                                                                                                                                     \n",
      "  8%|████████▍                                                                                                 | 4/50 [06:45<1:04:41, 84.37s/trial, best loss: 4.551289028261553]"
     ]
    },
    {
     "name": "stderr",
     "output_type": "stream",
     "text": [
      "/home/codespace/anaconda3/lib/python3.12/site-packages/xgboost/callback.py:386: UserWarning: [09:39:38] WARNING: /workspace/src/objective/regression_obj.cu:250: reg:linear is now deprecated in favor of reg:squarederror.\n",
      "  self.starting_round = model.num_boosted_rounds()\n",
      "\n"
     ]
    },
    {
     "name": "stdout",
     "output_type": "stream",
     "text": [
      "[0]\tvalidation-rmse:9.45107                                                                                                                                                      \n",
      "[1]\tvalidation-rmse:8.89915                                                                                                                                                      \n",
      "[2]\tvalidation-rmse:8.40734                                                                                                                                                      \n",
      "[3]\tvalidation-rmse:7.97007                                                                                                                                                      \n",
      "[4]\tvalidation-rmse:7.58211                                                                                                                                                      \n",
      "[5]\tvalidation-rmse:7.23941                                                                                                                                                      \n",
      "[6]\tvalidation-rmse:6.93670                                                                                                                                                      \n",
      "[7]\tvalidation-rmse:6.67010                                                                                                                                                      \n",
      "[8]\tvalidation-rmse:6.43746                                                                                                                                                      \n",
      "[9]\tvalidation-rmse:6.23380                                                                                                                                                      \n",
      "[10]\tvalidation-rmse:6.05633                                                                                                                                                     \n",
      "[11]\tvalidation-rmse:5.90155                                                                                                                                                     \n",
      "[12]\tvalidation-rmse:5.76673                                                                                                                                                     \n",
      "[13]\tvalidation-rmse:5.64990                                                                                                                                                     \n",
      "[14]\tvalidation-rmse:5.54880                                                                                                                                                     \n",
      "[15]\tvalidation-rmse:5.46054                                                                                                                                                     \n",
      "[16]\tvalidation-rmse:5.38443                                                                                                                                                     \n",
      "[17]\tvalidation-rmse:5.31754                                                                                                                                                     \n",
      "[18]\tvalidation-rmse:5.26027                                                                                                                                                     \n",
      "[19]\tvalidation-rmse:5.21119                                                                                                                                                     \n",
      "[20]\tvalidation-rmse:5.16779                                                                                                                                                     \n",
      "[21]\tvalidation-rmse:5.12985                                                                                                                                                     \n",
      "[22]\tvalidation-rmse:5.09683                                                                                                                                                     \n",
      "[23]\tvalidation-rmse:5.06838                                                                                                                                                     \n",
      "[24]\tvalidation-rmse:5.04252                                                                                                                                                     \n",
      "[25]\tvalidation-rmse:5.01960                                                                                                                                                     \n",
      "[26]\tvalidation-rmse:5.00013                                                                                                                                                     \n",
      "[27]\tvalidation-rmse:4.98272                                                                                                                                                     \n",
      "[28]\tvalidation-rmse:4.96729                                                                                                                                                     \n",
      "[29]\tvalidation-rmse:4.95415                                                                                                                                                     \n",
      "[30]\tvalidation-rmse:4.94201                                                                                                                                                     \n",
      "[31]\tvalidation-rmse:4.93078                                                                                                                                                     \n",
      "[32]\tvalidation-rmse:4.92119                                                                                                                                                     \n",
      "[33]\tvalidation-rmse:4.91157                                                                                                                                                     \n",
      "[34]\tvalidation-rmse:4.90340                                                                                                                                                     \n",
      "[35]\tvalidation-rmse:4.89604                                                                                                                                                     \n",
      "[36]\tvalidation-rmse:4.88916                                                                                                                                                     \n",
      "[37]\tvalidation-rmse:4.88269                                                                                                                                                     \n",
      "[38]\tvalidation-rmse:4.87707                                                                                                                                                     \n",
      "[39]\tvalidation-rmse:4.87013                                                                                                                                                     \n",
      "[40]\tvalidation-rmse:4.86530                                                                                                                                                     \n",
      "[41]\tvalidation-rmse:4.86038                                                                                                                                                     \n",
      "[42]\tvalidation-rmse:4.85573                                                                                                                                                     \n",
      "[43]\tvalidation-rmse:4.85149                                                                                                                                                     \n",
      "[44]\tvalidation-rmse:4.84791                                                                                                                                                     \n",
      "[45]\tvalidation-rmse:4.84319                                                                                                                                                     \n",
      "[46]\tvalidation-rmse:4.83960                                                                                                                                                     \n",
      "[47]\tvalidation-rmse:4.83639                                                                                                                                                     \n",
      "[48]\tvalidation-rmse:4.83234                                                                                                                                                     \n",
      "[49]\tvalidation-rmse:4.82942                                                                                                                                                     \n",
      "[50]\tvalidation-rmse:4.82608                                                                                                                                                     \n",
      "[51]\tvalidation-rmse:4.82332                                                                                                                                                     \n",
      "[52]\tvalidation-rmse:4.82105                                                                                                                                                     \n",
      "[53]\tvalidation-rmse:4.81791                                                                                                                                                     \n",
      "[54]\tvalidation-rmse:4.81506                                                                                                                                                     \n",
      "[55]\tvalidation-rmse:4.81377                                                                                                                                                     \n",
      "[56]\tvalidation-rmse:4.81050                                                                                                                                                     \n",
      "[57]\tvalidation-rmse:4.80920                                                                                                                                                     \n",
      "[58]\tvalidation-rmse:4.80735                                                                                                                                                     \n",
      "[59]\tvalidation-rmse:4.80542                                                                                                                                                     \n",
      " 10%|██████████▊                                                                                                 | 5/50 [07:12<47:40, 63.56s/trial, best loss: 4.551289028261553]"
     ]
    },
    {
     "name": "stderr",
     "output_type": "stream",
     "text": [
      "/home/codespace/anaconda3/lib/python3.12/site-packages/xgboost/callback.py:386: UserWarning: [09:40:05] WARNING: /workspace/src/objective/regression_obj.cu:250: reg:linear is now deprecated in favor of reg:squarederror.\n",
      "  self.starting_round = model.num_boosted_rounds()\n",
      "\n"
     ]
    },
    {
     "name": "stdout",
     "output_type": "stream",
     "text": [
      "[0]\tvalidation-rmse:9.03505                                                                                                                                                      \n",
      "[1]\tvalidation-rmse:8.18688                                                                                                                                                      \n",
      "[2]\tvalidation-rmse:7.49725                                                                                                                                                      \n",
      "[3]\tvalidation-rmse:6.93961                                                                                                                                                      \n",
      "[4]\tvalidation-rmse:6.49492                                                                                                                                                      \n",
      "[5]\tvalidation-rmse:6.14088                                                                                                                                                      \n",
      "[6]\tvalidation-rmse:5.86260                                                                                                                                                      \n",
      "[7]\tvalidation-rmse:5.64341                                                                                                                                                      \n",
      "[8]\tvalidation-rmse:5.47249                                                                                                                                                      \n",
      "[9]\tvalidation-rmse:5.33891                                                                                                                                                      \n",
      "[10]\tvalidation-rmse:5.23417                                                                                                                                                     \n",
      "[11]\tvalidation-rmse:5.15304                                                                                                                                                     \n",
      "[12]\tvalidation-rmse:5.08975                                                                                                                                                     \n",
      "[13]\tvalidation-rmse:5.03947                                                                                                                                                     \n",
      "[14]\tvalidation-rmse:4.99862                                                                                                                                                     \n",
      "[15]\tvalidation-rmse:4.96585                                                                                                                                                     \n",
      "[16]\tvalidation-rmse:4.93946                                                                                                                                                     \n",
      "[17]\tvalidation-rmse:4.91849                                                                                                                                                     \n",
      "[18]\tvalidation-rmse:4.90056                                                                                                                                                     \n",
      "[19]\tvalidation-rmse:4.88482                                                                                                                                                     \n",
      "[20]\tvalidation-rmse:4.87262                                                                                                                                                     \n",
      "[21]\tvalidation-rmse:4.86125                                                                                                                                                     \n",
      "[22]\tvalidation-rmse:4.85123                                                                                                                                                     \n",
      "[23]\tvalidation-rmse:4.84175                                                                                                                                                     \n",
      "[24]\tvalidation-rmse:4.83182                                                                                                                                                     \n",
      "[25]\tvalidation-rmse:4.82478                                                                                                                                                     \n",
      "[26]\tvalidation-rmse:4.81922                                                                                                                                                     \n",
      "[27]\tvalidation-rmse:4.81384                                                                                                                                                     \n",
      "[28]\tvalidation-rmse:4.80755                                                                                                                                                     \n",
      "[29]\tvalidation-rmse:4.80303                                                                                                                                                     \n",
      "[30]\tvalidation-rmse:4.79894                                                                                                                                                     \n",
      "[31]\tvalidation-rmse:4.79405                                                                                                                                                     \n",
      "[32]\tvalidation-rmse:4.79095                                                                                                                                                     \n",
      "[33]\tvalidation-rmse:4.78686                                                                                                                                                     \n",
      "[34]\tvalidation-rmse:4.78518                                                                                                                                                     \n",
      "[35]\tvalidation-rmse:4.78200                                                                                                                                                     \n",
      "[36]\tvalidation-rmse:4.77996                                                                                                                                                     \n",
      "[37]\tvalidation-rmse:4.77577                                                                                                                                                     \n",
      "[38]\tvalidation-rmse:4.77427                                                                                                                                                     \n",
      "[39]\tvalidation-rmse:4.77287                                                                                                                                                     \n",
      "[40]\tvalidation-rmse:4.76869                                                                                                                                                     \n",
      "[41]\tvalidation-rmse:4.76690                                                                                                                                                     \n",
      "[42]\tvalidation-rmse:4.76459                                                                                                                                                     \n",
      "[43]\tvalidation-rmse:4.76067                                                                                                                                                     \n",
      "[44]\tvalidation-rmse:4.75851                                                                                                                                                     \n",
      "[45]\tvalidation-rmse:4.75733                                                                                                                                                     \n",
      "[46]\tvalidation-rmse:4.75622                                                                                                                                                     \n",
      "[47]\tvalidation-rmse:4.75332                                                                                                                                                     \n",
      "[48]\tvalidation-rmse:4.75221                                                                                                                                                     \n",
      "[49]\tvalidation-rmse:4.74967                                                                                                                                                     \n",
      "[50]\tvalidation-rmse:4.74775                                                                                                                                                     \n",
      "[51]\tvalidation-rmse:4.74645                                                                                                                                                     \n",
      "[52]\tvalidation-rmse:4.74538                                                                                                                                                     \n",
      "[53]\tvalidation-rmse:4.74195                                                                                                                                                     \n",
      "[54]\tvalidation-rmse:4.74085                                                                                                                                                     \n",
      "[55]\tvalidation-rmse:4.73926                                                                                                                                                     \n",
      "[56]\tvalidation-rmse:4.73637                                                                                                                                                     \n",
      "[57]\tvalidation-rmse:4.73497                                                                                                                                                     \n",
      "[58]\tvalidation-rmse:4.73297                                                                                                                                                     \n",
      "[59]\tvalidation-rmse:4.73211                                                                                                                                                     \n",
      " 12%|████████████▉                                                                                               | 6/50 [07:36<36:45, 50.11s/trial, best loss: 4.551289028261553]"
     ]
    },
    {
     "name": "stderr",
     "output_type": "stream",
     "text": [
      "/home/codespace/anaconda3/lib/python3.12/site-packages/xgboost/callback.py:386: UserWarning: [09:40:29] WARNING: /workspace/src/objective/regression_obj.cu:250: reg:linear is now deprecated in favor of reg:squarederror.\n",
      "  self.starting_round = model.num_boosted_rounds()\n",
      "\n"
     ]
    },
    {
     "name": "stdout",
     "output_type": "stream",
     "text": [
      "[0]\tvalidation-rmse:9.65468                                                                                                                                                      \n",
      "[1]\tvalidation-rmse:9.26956                                                                                                                                                      \n",
      "[2]\tvalidation-rmse:8.91090                                                                                                                                                      \n",
      "[3]\tvalidation-rmse:8.57704                                                                                                                                                      \n",
      "[4]\tvalidation-rmse:8.26660                                                                                                                                                      \n",
      "[5]\tvalidation-rmse:7.97826                                                                                                                                                      \n",
      "[6]\tvalidation-rmse:7.70940                                                                                                                                                      \n",
      "[7]\tvalidation-rmse:7.46106                                                                                                                                                      \n",
      "[8]\tvalidation-rmse:7.23102                                                                                                                                                      \n",
      "[9]\tvalidation-rmse:7.01747                                                                                                                                                      \n",
      "[10]\tvalidation-rmse:6.82109                                                                                                                                                     \n",
      "[11]\tvalidation-rmse:6.63886                                                                                                                                                     \n",
      "[12]\tvalidation-rmse:6.47242                                                                                                                                                     \n",
      "[13]\tvalidation-rmse:6.31830                                                                                                                                                     \n",
      "[14]\tvalidation-rmse:6.17717                                                                                                                                                     \n",
      "[15]\tvalidation-rmse:6.04800                                                                                                                                                     \n",
      "[16]\tvalidation-rmse:5.92882                                                                                                                                                     \n",
      "[17]\tvalidation-rmse:5.81838                                                                                                                                                     \n",
      "[18]\tvalidation-rmse:5.71875                                                                                                                                                     \n",
      "[19]\tvalidation-rmse:5.62732                                                                                                                                                     \n",
      "[20]\tvalidation-rmse:5.54381                                                                                                                                                     \n",
      "[21]\tvalidation-rmse:5.46789                                                                                                                                                     \n",
      "[22]\tvalidation-rmse:5.39794                                                                                                                                                     \n",
      "[23]\tvalidation-rmse:5.33370                                                                                                                                                     \n",
      "[24]\tvalidation-rmse:5.27543                                                                                                                                                     \n",
      "[25]\tvalidation-rmse:5.22233                                                                                                                                                     \n",
      "[26]\tvalidation-rmse:5.17412                                                                                                                                                     \n",
      "[27]\tvalidation-rmse:5.12992                                                                                                                                                     \n",
      "[28]\tvalidation-rmse:5.08957                                                                                                                                                     \n",
      "[29]\tvalidation-rmse:5.05189                                                                                                                                                     \n",
      "[30]\tvalidation-rmse:5.01838                                                                                                                                                     \n",
      "[31]\tvalidation-rmse:4.98822                                                                                                                                                     \n",
      "[32]\tvalidation-rmse:4.96038                                                                                                                                                     \n",
      "[33]\tvalidation-rmse:4.93500                                                                                                                                                     \n",
      "[34]\tvalidation-rmse:4.91191                                                                                                                                                     \n",
      "[35]\tvalidation-rmse:4.89026                                                                                                                                                     \n",
      "[36]\tvalidation-rmse:4.87066                                                                                                                                                     \n",
      "[37]\tvalidation-rmse:4.85239                                                                                                                                                     \n",
      "[38]\tvalidation-rmse:4.83640                                                                                                                                                     \n",
      "[39]\tvalidation-rmse:4.82031                                                                                                                                                     \n",
      "[40]\tvalidation-rmse:4.80605                                                                                                                                                     \n",
      "[41]\tvalidation-rmse:4.79372                                                                                                                                                     \n",
      "[42]\tvalidation-rmse:4.78216                                                                                                                                                     \n",
      "[43]\tvalidation-rmse:4.77144                                                                                                                                                     \n",
      "[44]\tvalidation-rmse:4.76161                                                                                                                                                     \n",
      "[45]\tvalidation-rmse:4.75250                                                                                                                                                     \n",
      "[46]\tvalidation-rmse:4.74405                                                                                                                                                     \n",
      "[47]\tvalidation-rmse:4.73645                                                                                                                                                     \n",
      "[48]\tvalidation-rmse:4.72934                                                                                                                                                     \n",
      "[49]\tvalidation-rmse:4.72173                                                                                                                                                     \n",
      "[50]\tvalidation-rmse:4.71550                                                                                                                                                     \n",
      "[51]\tvalidation-rmse:4.70968                                                                                                                                                     \n",
      "[52]\tvalidation-rmse:4.70443                                                                                                                                                     \n",
      "[53]\tvalidation-rmse:4.69942                                                                                                                                                     \n",
      "[54]\tvalidation-rmse:4.69459                                                                                                                                                     \n",
      "[55]\tvalidation-rmse:4.69017                                                                                                                                                     \n",
      "[56]\tvalidation-rmse:4.68628                                                                                                                                                     \n",
      "[57]\tvalidation-rmse:4.68229                                                                                                                                                     \n",
      "[58]\tvalidation-rmse:4.67872                                                                                                                                                     \n",
      "[59]\tvalidation-rmse:4.67526                                                                                                                                                     \n",
      " 14%|███████████████                                                                                             | 7/50 [09:20<48:35, 67.81s/trial, best loss: 4.551289028261553]"
     ]
    },
    {
     "name": "stderr",
     "output_type": "stream",
     "text": [
      "/home/codespace/anaconda3/lib/python3.12/site-packages/xgboost/callback.py:386: UserWarning: [09:42:13] WARNING: /workspace/src/objective/regression_obj.cu:250: reg:linear is now deprecated in favor of reg:squarederror.\n",
      "  self.starting_round = model.num_boosted_rounds()\n",
      "\n"
     ]
    },
    {
     "name": "stdout",
     "output_type": "stream",
     "text": [
      "[0]\tvalidation-rmse:9.31043                                                                                                                                                      \n",
      "[1]\tvalidation-rmse:8.64456                                                                                                                                                      \n",
      "[2]\tvalidation-rmse:8.06301                                                                                                                                                      \n",
      "[3]\tvalidation-rmse:7.55346                                                                                                                                                      \n",
      "[4]\tvalidation-rmse:7.11435                                                                                                                                                      \n",
      "[5]\tvalidation-rmse:6.73202                                                                                                                                                      \n",
      "[6]\tvalidation-rmse:6.40477                                                                                                                                                      \n",
      "[7]\tvalidation-rmse:6.12504                                                                                                                                                      \n",
      "[8]\tvalidation-rmse:5.88264                                                                                                                                                      \n",
      "[9]\tvalidation-rmse:5.68008                                                                                                                                                      \n",
      "[10]\tvalidation-rmse:5.50868                                                                                                                                                     \n",
      "[11]\tvalidation-rmse:5.36060                                                                                                                                                     \n",
      "[12]\tvalidation-rmse:5.23899                                                                                                                                                     \n",
      "[13]\tvalidation-rmse:5.13429                                                                                                                                                     \n",
      "[14]\tvalidation-rmse:5.04864                                                                                                                                                     \n",
      "[15]\tvalidation-rmse:4.97730                                                                                                                                                     \n",
      "[16]\tvalidation-rmse:4.91722                                                                                                                                                     \n",
      "[17]\tvalidation-rmse:4.86722                                                                                                                                                     \n",
      "[18]\tvalidation-rmse:4.82545                                                                                                                                                     \n",
      "[19]\tvalidation-rmse:4.79018                                                                                                                                                     \n",
      "[20]\tvalidation-rmse:4.75879                                                                                                                                                     \n",
      "[21]\tvalidation-rmse:4.73348                                                                                                                                                     \n",
      "[22]\tvalidation-rmse:4.71231                                                                                                                                                     \n",
      "[23]\tvalidation-rmse:4.69425                                                                                                                                                     \n",
      "[24]\tvalidation-rmse:4.67924                                                                                                                                                     \n",
      "[25]\tvalidation-rmse:4.66657                                                                                                                                                     \n",
      "[26]\tvalidation-rmse:4.65564                                                                                                                                                     \n",
      "[27]\tvalidation-rmse:4.64614                                                                                                                                                     \n",
      "[28]\tvalidation-rmse:4.63804                                                                                                                                                     \n",
      "[29]\tvalidation-rmse:4.63117                                                                                                                                                     \n",
      "[30]\tvalidation-rmse:4.62458                                                                                                                                                     \n",
      "[31]\tvalidation-rmse:4.61940                                                                                                                                                     \n",
      "[32]\tvalidation-rmse:4.61443                                                                                                                                                     \n",
      "[33]\tvalidation-rmse:4.61033                                                                                                                                                     \n",
      "[34]\tvalidation-rmse:4.60692                                                                                                                                                     \n",
      "[35]\tvalidation-rmse:4.60386                                                                                                                                                     \n",
      "[36]\tvalidation-rmse:4.60116                                                                                                                                                     \n",
      "[37]\tvalidation-rmse:4.59833                                                                                                                                                     \n",
      "[38]\tvalidation-rmse:4.59601                                                                                                                                                     \n",
      "[39]\tvalidation-rmse:4.59402                                                                                                                                                     \n",
      "[40]\tvalidation-rmse:4.59221                                                                                                                                                     \n",
      "[41]\tvalidation-rmse:4.59050                                                                                                                                                     \n",
      "[42]\tvalidation-rmse:4.58871                                                                                                                                                     \n",
      "[43]\tvalidation-rmse:4.58732                                                                                                                                                     \n",
      "[44]\tvalidation-rmse:4.58583                                                                                                                                                     \n",
      "[45]\tvalidation-rmse:4.58465                                                                                                                                                     \n",
      "[46]\tvalidation-rmse:4.58334                                                                                                                                                     \n",
      "[47]\tvalidation-rmse:4.58235                                                                                                                                                     \n",
      "[48]\tvalidation-rmse:4.58144                                                                                                                                                     \n",
      "[49]\tvalidation-rmse:4.58079                                                                                                                                                     \n",
      "[50]\tvalidation-rmse:4.58007                                                                                                                                                     \n",
      "[51]\tvalidation-rmse:4.57910                                                                                                                                                     \n",
      "[52]\tvalidation-rmse:4.57778                                                                                                                                                     \n",
      "[53]\tvalidation-rmse:4.57684                                                                                                                                                     \n",
      "[54]\tvalidation-rmse:4.57560                                                                                                                                                     \n",
      "[55]\tvalidation-rmse:4.57473                                                                                                                                                     \n",
      "[56]\tvalidation-rmse:4.57401                                                                                                                                                     \n",
      "[57]\tvalidation-rmse:4.57351                                                                                                                                                     \n",
      "[58]\tvalidation-rmse:4.57304                                                                                                                                                     \n",
      "[59]\tvalidation-rmse:4.57249                                                                                                                                                     \n",
      " 16%|████████████████▉                                                                                         | 8/50 [11:59<1:07:42, 96.72s/trial, best loss: 4.551289028261553]"
     ]
    },
    {
     "name": "stderr",
     "output_type": "stream",
     "text": [
      "/home/codespace/anaconda3/lib/python3.12/site-packages/xgboost/callback.py:386: UserWarning: [09:44:52] WARNING: /workspace/src/objective/regression_obj.cu:250: reg:linear is now deprecated in favor of reg:squarederror.\n",
      "  self.starting_round = model.num_boosted_rounds()\n",
      "\n"
     ]
    },
    {
     "name": "stdout",
     "output_type": "stream",
     "text": [
      "[0]\tvalidation-rmse:8.60516                                                                                                                                                      \n",
      "[1]\tvalidation-rmse:7.51171                                                                                                                                                      \n",
      "[2]\tvalidation-rmse:6.70714                                                                                                                                                      \n",
      "[3]\tvalidation-rmse:6.12589                                                                                                                                                      \n",
      "[4]\tvalidation-rmse:5.70929                                                                                                                                                      \n",
      "[5]\tvalidation-rmse:5.41836                                                                                                                                                      \n",
      "[6]\tvalidation-rmse:5.21503                                                                                                                                                      \n",
      "[7]\tvalidation-rmse:5.07396                                                                                                                                                      \n",
      "[8]\tvalidation-rmse:4.97300                                                                                                                                                      \n",
      "[9]\tvalidation-rmse:4.90297                                                                                                                                                      \n",
      "[10]\tvalidation-rmse:4.85328                                                                                                                                                     \n",
      "[11]\tvalidation-rmse:4.81202                                                                                                                                                     \n",
      "[12]\tvalidation-rmse:4.78418                                                                                                                                                     \n",
      "[13]\tvalidation-rmse:4.76292                                                                                                                                                     \n",
      "[14]\tvalidation-rmse:4.74597                                                                                                                                                     \n",
      "[15]\tvalidation-rmse:4.73449                                                                                                                                                     \n",
      "[16]\tvalidation-rmse:4.72421                                                                                                                                                     \n",
      "[17]\tvalidation-rmse:4.71493                                                                                                                                                     \n",
      "[18]\tvalidation-rmse:4.70732                                                                                                                                                     \n",
      "[19]\tvalidation-rmse:4.70084                                                                                                                                                     \n",
      "[20]\tvalidation-rmse:4.69463                                                                                                                                                     \n",
      "[21]\tvalidation-rmse:4.69093                                                                                                                                                     \n",
      "[22]\tvalidation-rmse:4.68414                                                                                                                                                     \n",
      "[23]\tvalidation-rmse:4.68059                                                                                                                                                     \n",
      "[24]\tvalidation-rmse:4.67699                                                                                                                                                     \n",
      "[25]\tvalidation-rmse:4.67546                                                                                                                                                     \n",
      "[26]\tvalidation-rmse:4.67345                                                                                                                                                     \n",
      "[27]\tvalidation-rmse:4.66953                                                                                                                                                     \n",
      "[28]\tvalidation-rmse:4.66607                                                                                                                                                     \n",
      "[29]\tvalidation-rmse:4.66431                                                                                                                                                     \n",
      "[30]\tvalidation-rmse:4.66239                                                                                                                                                     \n",
      "[31]\tvalidation-rmse:4.66145                                                                                                                                                     \n",
      "[32]\tvalidation-rmse:4.65840                                                                                                                                                     \n",
      "[33]\tvalidation-rmse:4.65733                                                                                                                                                     \n",
      "[34]\tvalidation-rmse:4.65575                                                                                                                                                     \n",
      "[35]\tvalidation-rmse:4.65296                                                                                                                                                     \n",
      "[36]\tvalidation-rmse:4.64837                                                                                                                                                     \n",
      "[37]\tvalidation-rmse:4.64658                                                                                                                                                     \n",
      "[38]\tvalidation-rmse:4.64477                                                                                                                                                     \n",
      "[39]\tvalidation-rmse:4.64290                                                                                                                                                     \n",
      "[40]\tvalidation-rmse:4.64174                                                                                                                                                     \n",
      "[41]\tvalidation-rmse:4.63915                                                                                                                                                     \n",
      "[42]\tvalidation-rmse:4.63855                                                                                                                                                     \n",
      "[43]\tvalidation-rmse:4.63622                                                                                                                                                     \n",
      "[44]\tvalidation-rmse:4.63328                                                                                                                                                     \n",
      "[45]\tvalidation-rmse:4.63212                                                                                                                                                     \n",
      "[46]\tvalidation-rmse:4.63157                                                                                                                                                     \n",
      "[47]\tvalidation-rmse:4.63042                                                                                                                                                     \n",
      "[48]\tvalidation-rmse:4.62959                                                                                                                                                     \n",
      "[49]\tvalidation-rmse:4.62861                                                                                                                                                     \n",
      "[50]\tvalidation-rmse:4.62471                                                                                                                                                     \n",
      "[51]\tvalidation-rmse:4.62376                                                                                                                                                     \n",
      "[52]\tvalidation-rmse:4.62323                                                                                                                                                     \n",
      "[53]\tvalidation-rmse:4.61777                                                                                                                                                     \n",
      "[54]\tvalidation-rmse:4.61728                                                                                                                                                     \n",
      "[55]\tvalidation-rmse:4.61649                                                                                                                                                     \n",
      "[56]\tvalidation-rmse:4.61584                                                                                                                                                     \n",
      "[57]\tvalidation-rmse:4.61086                                                                                                                                                     \n",
      "[58]\tvalidation-rmse:4.61043                                                                                                                                                     \n",
      "[59]\tvalidation-rmse:4.60986                                                                                                                                                     \n",
      " 18%|███████████████████▍                                                                                        | 9/50 [12:34<52:59, 77.55s/trial, best loss: 4.551289028261553]"
     ]
    },
    {
     "name": "stderr",
     "output_type": "stream",
     "text": [
      "/home/codespace/anaconda3/lib/python3.12/site-packages/xgboost/callback.py:386: UserWarning: [09:45:27] WARNING: /workspace/src/objective/regression_obj.cu:250: reg:linear is now deprecated in favor of reg:squarederror.\n",
      "  self.starting_round = model.num_boosted_rounds()\n",
      "\n"
     ]
    },
    {
     "name": "stdout",
     "output_type": "stream",
     "text": [
      "[0]\tvalidation-rmse:9.12178                                                                                                                                                      \n",
      "[1]\tvalidation-rmse:8.31729                                                                                                                                                      \n",
      "[2]\tvalidation-rmse:7.64294                                                                                                                                                      \n",
      "[3]\tvalidation-rmse:7.07380                                                                                                                                                      \n",
      "[4]\tvalidation-rmse:6.60485                                                                                                                                                      \n",
      "[5]\tvalidation-rmse:6.21350                                                                                                                                                      \n",
      "[6]\tvalidation-rmse:5.89670                                                                                                                                                      \n",
      "[7]\tvalidation-rmse:5.63936                                                                                                                                                      \n",
      "[8]\tvalidation-rmse:5.42682                                                                                                                                                      \n",
      "[9]\tvalidation-rmse:5.25922                                                                                                                                                      \n",
      "[10]\tvalidation-rmse:5.12462                                                                                                                                                     \n",
      "[11]\tvalidation-rmse:5.01712                                                                                                                                                     \n",
      "[12]\tvalidation-rmse:4.92851                                                                                                                                                     \n",
      "[13]\tvalidation-rmse:4.86000                                                                                                                                                     \n",
      "[14]\tvalidation-rmse:4.80349                                                                                                                                                     \n",
      "[15]\tvalidation-rmse:4.76010                                                                                                                                                     \n",
      "[16]\tvalidation-rmse:4.72531                                                                                                                                                     \n",
      "[17]\tvalidation-rmse:4.69800                                                                                                                                                     \n",
      "[18]\tvalidation-rmse:4.67454                                                                                                                                                     \n",
      "[19]\tvalidation-rmse:4.65688                                                                                                                                                     \n",
      "[20]\tvalidation-rmse:4.64239                                                                                                                                                     \n",
      "[21]\tvalidation-rmse:4.63044                                                                                                                                                     \n",
      "[22]\tvalidation-rmse:4.62065                                                                                                                                                     \n",
      "[23]\tvalidation-rmse:4.61251                                                                                                                                                     \n",
      "[24]\tvalidation-rmse:4.60475                                                                                                                                                     \n",
      "[25]\tvalidation-rmse:4.59902                                                                                                                                                     \n",
      "[26]\tvalidation-rmse:4.59408                                                                                                                                                     \n",
      "[27]\tvalidation-rmse:4.59021                                                                                                                                                     \n",
      "[28]\tvalidation-rmse:4.58653                                                                                                                                                     \n",
      "[29]\tvalidation-rmse:4.58355                                                                                                                                                     \n",
      "[30]\tvalidation-rmse:4.58121                                                                                                                                                     \n",
      "[31]\tvalidation-rmse:4.57884                                                                                                                                                     \n",
      "[32]\tvalidation-rmse:4.57697                                                                                                                                                     \n",
      "[33]\tvalidation-rmse:4.57519                                                                                                                                                     \n",
      "[34]\tvalidation-rmse:4.57352                                                                                                                                                     \n",
      "[35]\tvalidation-rmse:4.57226                                                                                                                                                     \n",
      "[36]\tvalidation-rmse:4.57085                                                                                                                                                     \n",
      "[37]\tvalidation-rmse:4.56973                                                                                                                                                     \n",
      "[38]\tvalidation-rmse:4.56858                                                                                                                                                     \n",
      "[39]\tvalidation-rmse:4.56738                                                                                                                                                     \n",
      "[40]\tvalidation-rmse:4.56644                                                                                                                                                     \n",
      "[41]\tvalidation-rmse:4.56553                                                                                                                                                     \n",
      "[42]\tvalidation-rmse:4.56473                                                                                                                                                     \n",
      "[43]\tvalidation-rmse:4.56418                                                                                                                                                     \n",
      "[44]\tvalidation-rmse:4.56360                                                                                                                                                     \n",
      "[45]\tvalidation-rmse:4.56304                                                                                                                                                     \n",
      "[46]\tvalidation-rmse:4.56231                                                                                                                                                     \n",
      "[47]\tvalidation-rmse:4.56155                                                                                                                                                     \n",
      "[48]\tvalidation-rmse:4.56091                                                                                                                                                     \n",
      "[49]\tvalidation-rmse:4.56058                                                                                                                                                     \n",
      "[50]\tvalidation-rmse:4.56020                                                                                                                                                     \n",
      "[51]\tvalidation-rmse:4.55990                                                                                                                                                     \n",
      "[52]\tvalidation-rmse:4.55945                                                                                                                                                     \n",
      "[53]\tvalidation-rmse:4.55907                                                                                                                                                     \n",
      "[54]\tvalidation-rmse:4.55865                                                                                                                                                     \n",
      "[55]\tvalidation-rmse:4.55840                                                                                                                                                     \n",
      "[56]\tvalidation-rmse:4.55813                                                                                                                                                     \n",
      "[57]\tvalidation-rmse:4.55772                                                                                                                                                     \n",
      "[58]\tvalidation-rmse:4.55735                                                                                                                                                     \n",
      "[59]\tvalidation-rmse:4.55703                                                                                                                                                     \n",
      " 20%|████████████████████▊                                                                                   | 10/50 [15:08<1:07:15, 100.89s/trial, best loss: 4.551289028261553]"
     ]
    },
    {
     "name": "stderr",
     "output_type": "stream",
     "text": [
      "/home/codespace/anaconda3/lib/python3.12/site-packages/xgboost/callback.py:386: UserWarning: [09:48:00] WARNING: /workspace/src/objective/regression_obj.cu:250: reg:linear is now deprecated in favor of reg:squarederror.\n",
      "  self.starting_round = model.num_boosted_rounds()\n",
      "\n"
     ]
    },
    {
     "name": "stdout",
     "output_type": "stream",
     "text": [
      "[0]\tvalidation-rmse:7.21858                                                                                                                                                      \n",
      "[1]\tvalidation-rmse:5.83382                                                                                                                                                      \n",
      "[2]\tvalidation-rmse:5.21269                                                                                                                                                      \n",
      "[3]\tvalidation-rmse:4.94308                                                                                                                                                      \n",
      "[4]\tvalidation-rmse:4.81750                                                                                                                                                      \n",
      "[5]\tvalidation-rmse:4.74942                                                                                                                                                      \n",
      "[6]\tvalidation-rmse:4.71844                                                                                                                                                      \n",
      "[7]\tvalidation-rmse:4.69687                                                                                                                                                      \n",
      "[8]\tvalidation-rmse:4.68268                                                                                                                                                      \n",
      "[9]\tvalidation-rmse:4.67532                                                                                                                                                      \n",
      "[10]\tvalidation-rmse:4.66532                                                                                                                                                     \n",
      "[11]\tvalidation-rmse:4.66245                                                                                                                                                     \n",
      "[12]\tvalidation-rmse:4.65728                                                                                                                                                     \n",
      "[13]\tvalidation-rmse:4.65176                                                                                                                                                     \n",
      "[14]\tvalidation-rmse:4.64502                                                                                                                                                     \n",
      "[15]\tvalidation-rmse:4.64022                                                                                                                                                     \n",
      "[16]\tvalidation-rmse:4.63658                                                                                                                                                     \n",
      "[17]\tvalidation-rmse:4.63156                                                                                                                                                     \n",
      "[18]\tvalidation-rmse:4.62709                                                                                                                                                     \n",
      "[19]\tvalidation-rmse:4.61908                                                                                                                                                     \n",
      "[20]\tvalidation-rmse:4.61700                                                                                                                                                     \n",
      "[21]\tvalidation-rmse:4.61489                                                                                                                                                     \n",
      "[22]\tvalidation-rmse:4.61238                                                                                                                                                     \n",
      "[23]\tvalidation-rmse:4.60396                                                                                                                                                     \n",
      "[24]\tvalidation-rmse:4.60310                                                                                                                                                     \n",
      "[25]\tvalidation-rmse:4.60042                                                                                                                                                     \n",
      "[26]\tvalidation-rmse:4.59938                                                                                                                                                     \n",
      "[27]\tvalidation-rmse:4.59626                                                                                                                                                     \n",
      "[28]\tvalidation-rmse:4.59300                                                                                                                                                     \n",
      "[29]\tvalidation-rmse:4.59070                                                                                                                                                     \n",
      "[30]\tvalidation-rmse:4.58831                                                                                                                                                     \n",
      "[31]\tvalidation-rmse:4.58713                                                                                                                                                     \n",
      "[32]\tvalidation-rmse:4.58383                                                                                                                                                     \n",
      "[33]\tvalidation-rmse:4.58216                                                                                                                                                     \n",
      "[34]\tvalidation-rmse:4.57932                                                                                                                                                     \n",
      "[35]\tvalidation-rmse:4.57862                                                                                                                                                     \n",
      "[36]\tvalidation-rmse:4.57693                                                                                                                                                     \n",
      "[37]\tvalidation-rmse:4.57639                                                                                                                                                     \n",
      "[38]\tvalidation-rmse:4.57177                                                                                                                                                     \n",
      "[39]\tvalidation-rmse:4.57156                                                                                                                                                     \n",
      "[40]\tvalidation-rmse:4.57140                                                                                                                                                     \n",
      "[41]\tvalidation-rmse:4.57106                                                                                                                                                     \n",
      "[42]\tvalidation-rmse:4.57089                                                                                                                                                     \n",
      "[43]\tvalidation-rmse:4.57093                                                                                                                                                     \n",
      "[44]\tvalidation-rmse:4.57080                                                                                                                                                     \n",
      "[45]\tvalidation-rmse:4.57027                                                                                                                                                     \n",
      "[46]\tvalidation-rmse:4.56971                                                                                                                                                     \n",
      "[47]\tvalidation-rmse:4.56903                                                                                                                                                     \n",
      "[48]\tvalidation-rmse:4.56804                                                                                                                                                     \n",
      "[49]\tvalidation-rmse:4.56508                                                                                                                                                     \n",
      "[50]\tvalidation-rmse:4.56501                                                                                                                                                     \n",
      "[51]\tvalidation-rmse:4.56515                                                                                                                                                     \n",
      "[52]\tvalidation-rmse:4.56504                                                                                                                                                     \n",
      "[53]\tvalidation-rmse:4.56283                                                                                                                                                     \n",
      "[54]\tvalidation-rmse:4.56113                                                                                                                                                     \n",
      "[55]\tvalidation-rmse:4.56090                                                                                                                                                     \n",
      "[56]\tvalidation-rmse:4.55981                                                                                                                                                     \n",
      "[57]\tvalidation-rmse:4.55883                                                                                                                                                     \n",
      "[58]\tvalidation-rmse:4.55827                                                                                                                                                     \n",
      "[59]\tvalidation-rmse:4.55647                                                                                                                                                     \n",
      " 22%|███████████████████████▌                                                                                   | 11/50 [15:45<52:54, 81.38s/trial, best loss: 4.551289028261553]"
     ]
    },
    {
     "name": "stderr",
     "output_type": "stream",
     "text": [
      "/home/codespace/anaconda3/lib/python3.12/site-packages/xgboost/callback.py:386: UserWarning: [09:48:37] WARNING: /workspace/src/objective/regression_obj.cu:250: reg:linear is now deprecated in favor of reg:squarederror.\n",
      "  self.starting_round = model.num_boosted_rounds()\n",
      "\n"
     ]
    },
    {
     "name": "stdout",
     "output_type": "stream",
     "text": [
      "[0]\tvalidation-rmse:5.01599                                                                                                                                                      \n",
      "[1]\tvalidation-rmse:4.74761                                                                                                                                                      \n",
      "[2]\tvalidation-rmse:4.71070                                                                                                                                                      \n",
      "[3]\tvalidation-rmse:4.69838                                                                                                                                                      \n",
      "[4]\tvalidation-rmse:4.68964                                                                                                                                                      \n",
      "[5]\tvalidation-rmse:4.67712                                                                                                                                                      \n",
      "[6]\tvalidation-rmse:4.65481                                                                                                                                                      \n",
      "[7]\tvalidation-rmse:4.65160                                                                                                                                                      \n",
      "[8]\tvalidation-rmse:4.64862                                                                                                                                                      \n",
      "[9]\tvalidation-rmse:4.63680                                                                                                                                                      \n",
      "[10]\tvalidation-rmse:4.63200                                                                                                                                                     \n",
      "[11]\tvalidation-rmse:4.62111                                                                                                                                                     \n",
      "[12]\tvalidation-rmse:4.61369                                                                                                                                                     \n",
      "[13]\tvalidation-rmse:4.61001                                                                                                                                                     \n",
      "[14]\tvalidation-rmse:4.60709                                                                                                                                                     \n",
      "[15]\tvalidation-rmse:4.60263                                                                                                                                                     \n",
      "[16]\tvalidation-rmse:4.59988                                                                                                                                                     \n",
      "[17]\tvalidation-rmse:4.59912                                                                                                                                                     \n",
      "[18]\tvalidation-rmse:4.59825                                                                                                                                                     \n",
      "[19]\tvalidation-rmse:4.59832                                                                                                                                                     \n",
      "[20]\tvalidation-rmse:4.59831                                                                                                                                                     \n",
      "[21]\tvalidation-rmse:4.59876                                                                                                                                                     \n",
      "[22]\tvalidation-rmse:4.59768                                                                                                                                                     \n",
      "[23]\tvalidation-rmse:4.59815                                                                                                                                                     \n",
      "[24]\tvalidation-rmse:4.59877                                                                                                                                                     \n",
      "[25]\tvalidation-rmse:4.59933                                                                                                                                                     \n",
      "[26]\tvalidation-rmse:4.59981                                                                                                                                                     \n",
      "[27]\tvalidation-rmse:4.59967                                                                                                                                                     \n",
      "[28]\tvalidation-rmse:4.59958                                                                                                                                                     \n",
      " 22%|███████████████████████▌                                                                                   | 11/50 [16:02<56:53, 87.52s/trial, best loss: 4.551289028261553]\n"
     ]
    },
    {
     "ename": "KeyboardInterrupt",
     "evalue": "",
     "output_type": "error",
     "traceback": [
      "\u001b[31m---------------------------------------------------------------------------\u001b[39m",
      "\u001b[31mKeyboardInterrupt\u001b[39m                         Traceback (most recent call last)",
      "\u001b[36mCell\u001b[39m\u001b[36m \u001b[39m\u001b[32mIn[33]\u001b[39m\u001b[32m, line 11\u001b[39m\n\u001b[32m      1\u001b[39m search_space = {\n\u001b[32m      2\u001b[39m     \u001b[33m'\u001b[39m\u001b[33mmax_depth\u001b[39m\u001b[33m'\u001b[39m: scope.int(hp.quniform(\u001b[33m'\u001b[39m\u001b[33mmax_depth\u001b[39m\u001b[33m'\u001b[39m, \u001b[32m4\u001b[39m, \u001b[32m100\u001b[39m, \u001b[32m1\u001b[39m)),\n\u001b[32m      3\u001b[39m     \u001b[33m'\u001b[39m\u001b[33mlearning_rate\u001b[39m\u001b[33m'\u001b[39m: hp.loguniform(\u001b[33m'\u001b[39m\u001b[33mlearning_rate\u001b[39m\u001b[33m'\u001b[39m, -\u001b[32m3\u001b[39m, \u001b[32m0\u001b[39m),\n\u001b[32m   (...)\u001b[39m\u001b[32m      8\u001b[39m     \u001b[33m'\u001b[39m\u001b[33mseed\u001b[39m\u001b[33m'\u001b[39m: \u001b[32m42\u001b[39m\n\u001b[32m      9\u001b[39m }\n\u001b[32m---> \u001b[39m\u001b[32m11\u001b[39m best_result = \u001b[43mfmin\u001b[49m\u001b[43m(\u001b[49m\n\u001b[32m     12\u001b[39m \u001b[43m    \u001b[49m\u001b[43mfn\u001b[49m\u001b[43m=\u001b[49m\u001b[43mobjective\u001b[49m\u001b[43m,\u001b[49m\n\u001b[32m     13\u001b[39m \u001b[43m    \u001b[49m\u001b[43mspace\u001b[49m\u001b[43m=\u001b[49m\u001b[43msearch_space\u001b[49m\u001b[43m,\u001b[49m\n\u001b[32m     14\u001b[39m \u001b[43m    \u001b[49m\u001b[43malgo\u001b[49m\u001b[43m=\u001b[49m\u001b[43mtpe\u001b[49m\u001b[43m.\u001b[49m\u001b[43msuggest\u001b[49m\u001b[43m,\u001b[49m\n\u001b[32m     15\u001b[39m \u001b[43m    \u001b[49m\u001b[43mmax_evals\u001b[49m\u001b[43m=\u001b[49m\u001b[32;43m50\u001b[39;49m\u001b[43m,\u001b[49m\n\u001b[32m     16\u001b[39m \u001b[43m    \u001b[49m\u001b[43mtrials\u001b[49m\u001b[43m=\u001b[49m\u001b[43mTrials\u001b[49m\u001b[43m(\u001b[49m\u001b[43m)\u001b[49m\n\u001b[32m     17\u001b[39m \u001b[43m)\u001b[49m\n",
      "\u001b[36mFile \u001b[39m\u001b[32m~/anaconda3/lib/python3.12/site-packages/hyperopt/fmin.py:540\u001b[39m, in \u001b[36mfmin\u001b[39m\u001b[34m(fn, space, algo, max_evals, timeout, loss_threshold, trials, rstate, allow_trials_fmin, pass_expr_memo_ctrl, catch_eval_exceptions, verbose, return_argmin, points_to_evaluate, max_queue_len, show_progressbar, early_stop_fn, trials_save_file)\u001b[39m\n\u001b[32m    537\u001b[39m     fn = __objective_fmin_wrapper(fn)\n\u001b[32m    539\u001b[39m \u001b[38;5;28;01mif\u001b[39;00m allow_trials_fmin \u001b[38;5;129;01mand\u001b[39;00m \u001b[38;5;28mhasattr\u001b[39m(trials, \u001b[33m\"\u001b[39m\u001b[33mfmin\u001b[39m\u001b[33m\"\u001b[39m):\n\u001b[32m--> \u001b[39m\u001b[32m540\u001b[39m     \u001b[38;5;28;01mreturn\u001b[39;00m \u001b[43mtrials\u001b[49m\u001b[43m.\u001b[49m\u001b[43mfmin\u001b[49m\u001b[43m(\u001b[49m\n\u001b[32m    541\u001b[39m \u001b[43m        \u001b[49m\u001b[43mfn\u001b[49m\u001b[43m,\u001b[49m\n\u001b[32m    542\u001b[39m \u001b[43m        \u001b[49m\u001b[43mspace\u001b[49m\u001b[43m,\u001b[49m\n\u001b[32m    543\u001b[39m \u001b[43m        \u001b[49m\u001b[43malgo\u001b[49m\u001b[43m=\u001b[49m\u001b[43malgo\u001b[49m\u001b[43m,\u001b[49m\n\u001b[32m    544\u001b[39m \u001b[43m        \u001b[49m\u001b[43mmax_evals\u001b[49m\u001b[43m=\u001b[49m\u001b[43mmax_evals\u001b[49m\u001b[43m,\u001b[49m\n\u001b[32m    545\u001b[39m \u001b[43m        \u001b[49m\u001b[43mtimeout\u001b[49m\u001b[43m=\u001b[49m\u001b[43mtimeout\u001b[49m\u001b[43m,\u001b[49m\n\u001b[32m    546\u001b[39m \u001b[43m        \u001b[49m\u001b[43mloss_threshold\u001b[49m\u001b[43m=\u001b[49m\u001b[43mloss_threshold\u001b[49m\u001b[43m,\u001b[49m\n\u001b[32m    547\u001b[39m \u001b[43m        \u001b[49m\u001b[43mmax_queue_len\u001b[49m\u001b[43m=\u001b[49m\u001b[43mmax_queue_len\u001b[49m\u001b[43m,\u001b[49m\n\u001b[32m    548\u001b[39m \u001b[43m        \u001b[49m\u001b[43mrstate\u001b[49m\u001b[43m=\u001b[49m\u001b[43mrstate\u001b[49m\u001b[43m,\u001b[49m\n\u001b[32m    549\u001b[39m \u001b[43m        \u001b[49m\u001b[43mpass_expr_memo_ctrl\u001b[49m\u001b[43m=\u001b[49m\u001b[43mpass_expr_memo_ctrl\u001b[49m\u001b[43m,\u001b[49m\n\u001b[32m    550\u001b[39m \u001b[43m        \u001b[49m\u001b[43mverbose\u001b[49m\u001b[43m=\u001b[49m\u001b[43mverbose\u001b[49m\u001b[43m,\u001b[49m\n\u001b[32m    551\u001b[39m \u001b[43m        \u001b[49m\u001b[43mcatch_eval_exceptions\u001b[49m\u001b[43m=\u001b[49m\u001b[43mcatch_eval_exceptions\u001b[49m\u001b[43m,\u001b[49m\n\u001b[32m    552\u001b[39m \u001b[43m        \u001b[49m\u001b[43mreturn_argmin\u001b[49m\u001b[43m=\u001b[49m\u001b[43mreturn_argmin\u001b[49m\u001b[43m,\u001b[49m\n\u001b[32m    553\u001b[39m \u001b[43m        \u001b[49m\u001b[43mshow_progressbar\u001b[49m\u001b[43m=\u001b[49m\u001b[43mshow_progressbar\u001b[49m\u001b[43m,\u001b[49m\n\u001b[32m    554\u001b[39m \u001b[43m        \u001b[49m\u001b[43mearly_stop_fn\u001b[49m\u001b[43m=\u001b[49m\u001b[43mearly_stop_fn\u001b[49m\u001b[43m,\u001b[49m\n\u001b[32m    555\u001b[39m \u001b[43m        \u001b[49m\u001b[43mtrials_save_file\u001b[49m\u001b[43m=\u001b[49m\u001b[43mtrials_save_file\u001b[49m\u001b[43m,\u001b[49m\n\u001b[32m    556\u001b[39m \u001b[43m    \u001b[49m\u001b[43m)\u001b[49m\n\u001b[32m    558\u001b[39m \u001b[38;5;28;01mif\u001b[39;00m trials \u001b[38;5;129;01mis\u001b[39;00m \u001b[38;5;28;01mNone\u001b[39;00m:\n\u001b[32m    559\u001b[39m     \u001b[38;5;28;01mif\u001b[39;00m os.path.exists(trials_save_file):\n",
      "\u001b[36mFile \u001b[39m\u001b[32m~/anaconda3/lib/python3.12/site-packages/hyperopt/base.py:671\u001b[39m, in \u001b[36mTrials.fmin\u001b[39m\u001b[34m(self, fn, space, algo, max_evals, timeout, loss_threshold, max_queue_len, rstate, verbose, pass_expr_memo_ctrl, catch_eval_exceptions, return_argmin, show_progressbar, early_stop_fn, trials_save_file)\u001b[39m\n\u001b[32m    666\u001b[39m \u001b[38;5;66;03m# -- Stop-gap implementation!\u001b[39;00m\n\u001b[32m    667\u001b[39m \u001b[38;5;66;03m#    fmin should have been a Trials method in the first place\u001b[39;00m\n\u001b[32m    668\u001b[39m \u001b[38;5;66;03m#    but for now it's still sitting in another file.\u001b[39;00m\n\u001b[32m    669\u001b[39m \u001b[38;5;28;01mfrom\u001b[39;00m\u001b[38;5;250m \u001b[39m\u001b[34;01m.\u001b[39;00m\u001b[34;01mfmin\u001b[39;00m\u001b[38;5;250m \u001b[39m\u001b[38;5;28;01mimport\u001b[39;00m fmin\n\u001b[32m--> \u001b[39m\u001b[32m671\u001b[39m \u001b[38;5;28;01mreturn\u001b[39;00m \u001b[43mfmin\u001b[49m\u001b[43m(\u001b[49m\n\u001b[32m    672\u001b[39m \u001b[43m    \u001b[49m\u001b[43mfn\u001b[49m\u001b[43m,\u001b[49m\n\u001b[32m    673\u001b[39m \u001b[43m    \u001b[49m\u001b[43mspace\u001b[49m\u001b[43m,\u001b[49m\n\u001b[32m    674\u001b[39m \u001b[43m    \u001b[49m\u001b[43malgo\u001b[49m\u001b[43m=\u001b[49m\u001b[43malgo\u001b[49m\u001b[43m,\u001b[49m\n\u001b[32m    675\u001b[39m \u001b[43m    \u001b[49m\u001b[43mmax_evals\u001b[49m\u001b[43m=\u001b[49m\u001b[43mmax_evals\u001b[49m\u001b[43m,\u001b[49m\n\u001b[32m    676\u001b[39m \u001b[43m    \u001b[49m\u001b[43mtimeout\u001b[49m\u001b[43m=\u001b[49m\u001b[43mtimeout\u001b[49m\u001b[43m,\u001b[49m\n\u001b[32m    677\u001b[39m \u001b[43m    \u001b[49m\u001b[43mloss_threshold\u001b[49m\u001b[43m=\u001b[49m\u001b[43mloss_threshold\u001b[49m\u001b[43m,\u001b[49m\n\u001b[32m    678\u001b[39m \u001b[43m    \u001b[49m\u001b[43mtrials\u001b[49m\u001b[43m=\u001b[49m\u001b[38;5;28;43mself\u001b[39;49m\u001b[43m,\u001b[49m\n\u001b[32m    679\u001b[39m \u001b[43m    \u001b[49m\u001b[43mrstate\u001b[49m\u001b[43m=\u001b[49m\u001b[43mrstate\u001b[49m\u001b[43m,\u001b[49m\n\u001b[32m    680\u001b[39m \u001b[43m    \u001b[49m\u001b[43mverbose\u001b[49m\u001b[43m=\u001b[49m\u001b[43mverbose\u001b[49m\u001b[43m,\u001b[49m\n\u001b[32m    681\u001b[39m \u001b[43m    \u001b[49m\u001b[43mmax_queue_len\u001b[49m\u001b[43m=\u001b[49m\u001b[43mmax_queue_len\u001b[49m\u001b[43m,\u001b[49m\n\u001b[32m    682\u001b[39m \u001b[43m    \u001b[49m\u001b[43mallow_trials_fmin\u001b[49m\u001b[43m=\u001b[49m\u001b[38;5;28;43;01mFalse\u001b[39;49;00m\u001b[43m,\u001b[49m\u001b[43m  \u001b[49m\u001b[38;5;66;43;03m# -- prevent recursion\u001b[39;49;00m\n\u001b[32m    683\u001b[39m \u001b[43m    \u001b[49m\u001b[43mpass_expr_memo_ctrl\u001b[49m\u001b[43m=\u001b[49m\u001b[43mpass_expr_memo_ctrl\u001b[49m\u001b[43m,\u001b[49m\n\u001b[32m    684\u001b[39m \u001b[43m    \u001b[49m\u001b[43mcatch_eval_exceptions\u001b[49m\u001b[43m=\u001b[49m\u001b[43mcatch_eval_exceptions\u001b[49m\u001b[43m,\u001b[49m\n\u001b[32m    685\u001b[39m \u001b[43m    \u001b[49m\u001b[43mreturn_argmin\u001b[49m\u001b[43m=\u001b[49m\u001b[43mreturn_argmin\u001b[49m\u001b[43m,\u001b[49m\n\u001b[32m    686\u001b[39m \u001b[43m    \u001b[49m\u001b[43mshow_progressbar\u001b[49m\u001b[43m=\u001b[49m\u001b[43mshow_progressbar\u001b[49m\u001b[43m,\u001b[49m\n\u001b[32m    687\u001b[39m \u001b[43m    \u001b[49m\u001b[43mearly_stop_fn\u001b[49m\u001b[43m=\u001b[49m\u001b[43mearly_stop_fn\u001b[49m\u001b[43m,\u001b[49m\n\u001b[32m    688\u001b[39m \u001b[43m    \u001b[49m\u001b[43mtrials_save_file\u001b[49m\u001b[43m=\u001b[49m\u001b[43mtrials_save_file\u001b[49m\u001b[43m,\u001b[49m\n\u001b[32m    689\u001b[39m \u001b[43m\u001b[49m\u001b[43m)\u001b[49m\n",
      "\u001b[36mFile \u001b[39m\u001b[32m~/anaconda3/lib/python3.12/site-packages/hyperopt/fmin.py:586\u001b[39m, in \u001b[36mfmin\u001b[39m\u001b[34m(fn, space, algo, max_evals, timeout, loss_threshold, trials, rstate, allow_trials_fmin, pass_expr_memo_ctrl, catch_eval_exceptions, verbose, return_argmin, points_to_evaluate, max_queue_len, show_progressbar, early_stop_fn, trials_save_file)\u001b[39m\n\u001b[32m    583\u001b[39m rval.catch_eval_exceptions = catch_eval_exceptions\n\u001b[32m    585\u001b[39m \u001b[38;5;66;03m# next line is where the fmin is actually executed\u001b[39;00m\n\u001b[32m--> \u001b[39m\u001b[32m586\u001b[39m \u001b[43mrval\u001b[49m\u001b[43m.\u001b[49m\u001b[43mexhaust\u001b[49m\u001b[43m(\u001b[49m\u001b[43m)\u001b[49m\n\u001b[32m    588\u001b[39m \u001b[38;5;28;01mif\u001b[39;00m return_argmin:\n\u001b[32m    589\u001b[39m     \u001b[38;5;28;01mif\u001b[39;00m \u001b[38;5;28mlen\u001b[39m(trials.trials) == \u001b[32m0\u001b[39m:\n",
      "\u001b[36mFile \u001b[39m\u001b[32m~/anaconda3/lib/python3.12/site-packages/hyperopt/fmin.py:364\u001b[39m, in \u001b[36mFMinIter.exhaust\u001b[39m\u001b[34m(self)\u001b[39m\n\u001b[32m    362\u001b[39m \u001b[38;5;28;01mdef\u001b[39;00m\u001b[38;5;250m \u001b[39m\u001b[34mexhaust\u001b[39m(\u001b[38;5;28mself\u001b[39m):\n\u001b[32m    363\u001b[39m     n_done = \u001b[38;5;28mlen\u001b[39m(\u001b[38;5;28mself\u001b[39m.trials)\n\u001b[32m--> \u001b[39m\u001b[32m364\u001b[39m     \u001b[38;5;28;43mself\u001b[39;49m\u001b[43m.\u001b[49m\u001b[43mrun\u001b[49m\u001b[43m(\u001b[49m\u001b[38;5;28;43mself\u001b[39;49m\u001b[43m.\u001b[49m\u001b[43mmax_evals\u001b[49m\u001b[43m \u001b[49m\u001b[43m-\u001b[49m\u001b[43m \u001b[49m\u001b[43mn_done\u001b[49m\u001b[43m,\u001b[49m\u001b[43m \u001b[49m\u001b[43mblock_until_done\u001b[49m\u001b[43m=\u001b[49m\u001b[38;5;28;43mself\u001b[39;49m\u001b[43m.\u001b[49m\u001b[43masynchronous\u001b[49m\u001b[43m)\u001b[49m\n\u001b[32m    365\u001b[39m     \u001b[38;5;28mself\u001b[39m.trials.refresh()\n\u001b[32m    366\u001b[39m     \u001b[38;5;28;01mreturn\u001b[39;00m \u001b[38;5;28mself\u001b[39m\n",
      "\u001b[36mFile \u001b[39m\u001b[32m~/anaconda3/lib/python3.12/site-packages/hyperopt/fmin.py:300\u001b[39m, in \u001b[36mFMinIter.run\u001b[39m\u001b[34m(self, N, block_until_done)\u001b[39m\n\u001b[32m    297\u001b[39m     time.sleep(\u001b[38;5;28mself\u001b[39m.poll_interval_secs)\n\u001b[32m    298\u001b[39m \u001b[38;5;28;01melse\u001b[39;00m:\n\u001b[32m    299\u001b[39m     \u001b[38;5;66;03m# -- loop over trials and do the jobs directly\u001b[39;00m\n\u001b[32m--> \u001b[39m\u001b[32m300\u001b[39m     \u001b[38;5;28;43mself\u001b[39;49m\u001b[43m.\u001b[49m\u001b[43mserial_evaluate\u001b[49m\u001b[43m(\u001b[49m\u001b[43m)\u001b[49m\n\u001b[32m    302\u001b[39m \u001b[38;5;28mself\u001b[39m.trials.refresh()\n\u001b[32m    303\u001b[39m \u001b[38;5;28;01mif\u001b[39;00m \u001b[38;5;28mself\u001b[39m.trials_save_file != \u001b[33m\"\u001b[39m\u001b[33m\"\u001b[39m:\n",
      "\u001b[36mFile \u001b[39m\u001b[32m~/anaconda3/lib/python3.12/site-packages/hyperopt/fmin.py:178\u001b[39m, in \u001b[36mFMinIter.serial_evaluate\u001b[39m\u001b[34m(self, N)\u001b[39m\n\u001b[32m    176\u001b[39m ctrl = base.Ctrl(\u001b[38;5;28mself\u001b[39m.trials, current_trial=trial)\n\u001b[32m    177\u001b[39m \u001b[38;5;28;01mtry\u001b[39;00m:\n\u001b[32m--> \u001b[39m\u001b[32m178\u001b[39m     result = \u001b[38;5;28;43mself\u001b[39;49m\u001b[43m.\u001b[49m\u001b[43mdomain\u001b[49m\u001b[43m.\u001b[49m\u001b[43mevaluate\u001b[49m\u001b[43m(\u001b[49m\u001b[43mspec\u001b[49m\u001b[43m,\u001b[49m\u001b[43m \u001b[49m\u001b[43mctrl\u001b[49m\u001b[43m)\u001b[49m\n\u001b[32m    179\u001b[39m \u001b[38;5;28;01mexcept\u001b[39;00m \u001b[38;5;167;01mException\u001b[39;00m \u001b[38;5;28;01mas\u001b[39;00m e:\n\u001b[32m    180\u001b[39m     logger.error(\u001b[33m\"\u001b[39m\u001b[33mjob exception: \u001b[39m\u001b[38;5;132;01m%s\u001b[39;00m\u001b[33m\"\u001b[39m % \u001b[38;5;28mstr\u001b[39m(e))\n",
      "\u001b[36mFile \u001b[39m\u001b[32m~/anaconda3/lib/python3.12/site-packages/hyperopt/base.py:892\u001b[39m, in \u001b[36mDomain.evaluate\u001b[39m\u001b[34m(self, config, ctrl, attach_attachments)\u001b[39m\n\u001b[32m    883\u001b[39m \u001b[38;5;28;01melse\u001b[39;00m:\n\u001b[32m    884\u001b[39m     \u001b[38;5;66;03m# -- the \"work\" of evaluating `config` can be written\u001b[39;00m\n\u001b[32m    885\u001b[39m     \u001b[38;5;66;03m#    either into the pyll part (self.expr)\u001b[39;00m\n\u001b[32m    886\u001b[39m     \u001b[38;5;66;03m#    or the normal Python part (self.fn)\u001b[39;00m\n\u001b[32m    887\u001b[39m     pyll_rval = pyll.rec_eval(\n\u001b[32m    888\u001b[39m         \u001b[38;5;28mself\u001b[39m.expr,\n\u001b[32m    889\u001b[39m         memo=memo,\n\u001b[32m    890\u001b[39m         print_node_on_error=\u001b[38;5;28mself\u001b[39m.rec_eval_print_node_on_error,\n\u001b[32m    891\u001b[39m     )\n\u001b[32m--> \u001b[39m\u001b[32m892\u001b[39m     rval = \u001b[38;5;28;43mself\u001b[39;49m\u001b[43m.\u001b[49m\u001b[43mfn\u001b[49m\u001b[43m(\u001b[49m\u001b[43mpyll_rval\u001b[49m\u001b[43m)\u001b[49m\n\u001b[32m    894\u001b[39m \u001b[38;5;28;01mif\u001b[39;00m \u001b[38;5;28misinstance\u001b[39m(rval, (\u001b[38;5;28mfloat\u001b[39m, \u001b[38;5;28mint\u001b[39m, np.number)):\n\u001b[32m    895\u001b[39m     dict_rval = {\u001b[33m\"\u001b[39m\u001b[33mloss\u001b[39m\u001b[33m\"\u001b[39m: \u001b[38;5;28mfloat\u001b[39m(rval), \u001b[33m\"\u001b[39m\u001b[33mstatus\u001b[39m\u001b[33m\"\u001b[39m: STATUS_OK}\n",
      "\u001b[36mCell\u001b[39m\u001b[36m \u001b[39m\u001b[32mIn[31]\u001b[39m\u001b[32m, line 5\u001b[39m, in \u001b[36mobjective\u001b[39m\u001b[34m(params)\u001b[39m\n\u001b[32m      3\u001b[39m mlflow.set_tag(\u001b[33m\"\u001b[39m\u001b[33mmodel\u001b[39m\u001b[33m\"\u001b[39m, \u001b[33m\"\u001b[39m\u001b[33mxgboost\u001b[39m\u001b[33m\"\u001b[39m)\n\u001b[32m      4\u001b[39m mlflow.log_params(params)\n\u001b[32m----> \u001b[39m\u001b[32m5\u001b[39m booster = \u001b[43mxgb\u001b[49m\u001b[43m.\u001b[49m\u001b[43mtrain\u001b[49m\u001b[43m(\u001b[49m\n\u001b[32m      6\u001b[39m \u001b[43m    \u001b[49m\u001b[43mparams\u001b[49m\u001b[43m=\u001b[49m\u001b[43mparams\u001b[49m\u001b[43m,\u001b[49m\n\u001b[32m      7\u001b[39m \u001b[43m    \u001b[49m\u001b[43mdtrain\u001b[49m\u001b[43m=\u001b[49m\u001b[43mtrain\u001b[49m\u001b[43m,\u001b[49m\n\u001b[32m      8\u001b[39m \u001b[43m    \u001b[49m\u001b[43mnum_boost_round\u001b[49m\u001b[43m=\u001b[49m\u001b[32;43m60\u001b[39;49m\u001b[43m,\u001b[49m\n\u001b[32m      9\u001b[39m \u001b[43m    \u001b[49m\u001b[43mevals\u001b[49m\u001b[43m=\u001b[49m\u001b[43m[\u001b[49m\u001b[43m(\u001b[49m\u001b[43mvalid\u001b[49m\u001b[43m,\u001b[49m\u001b[43m \u001b[49m\u001b[33;43m'\u001b[39;49m\u001b[33;43mvalidation\u001b[39;49m\u001b[33;43m'\u001b[39;49m\u001b[43m)\u001b[49m\u001b[43m]\u001b[49m\u001b[43m,\u001b[49m\n\u001b[32m     10\u001b[39m \u001b[43m    \u001b[49m\u001b[43mearly_stopping_rounds\u001b[49m\u001b[43m=\u001b[49m\u001b[32;43m20\u001b[39;49m\n\u001b[32m     11\u001b[39m \u001b[43m\u001b[49m\u001b[43m)\u001b[49m\n\u001b[32m     12\u001b[39m y_pred = booster.predict(valid)\n\u001b[32m     13\u001b[39m rmse = np.sqrt(mean_squared_error(y_val, y_pred))\n",
      "\u001b[36mFile \u001b[39m\u001b[32m~/anaconda3/lib/python3.12/site-packages/xgboost/core.py:729\u001b[39m, in \u001b[36mrequire_keyword_args.<locals>.throw_if.<locals>.inner_f\u001b[39m\u001b[34m(*args, **kwargs)\u001b[39m\n\u001b[32m    727\u001b[39m \u001b[38;5;28;01mfor\u001b[39;00m k, arg \u001b[38;5;129;01min\u001b[39;00m \u001b[38;5;28mzip\u001b[39m(sig.parameters, args):\n\u001b[32m    728\u001b[39m     kwargs[k] = arg\n\u001b[32m--> \u001b[39m\u001b[32m729\u001b[39m \u001b[38;5;28;01mreturn\u001b[39;00m \u001b[43mfunc\u001b[49m\u001b[43m(\u001b[49m\u001b[43m*\u001b[49m\u001b[43m*\u001b[49m\u001b[43mkwargs\u001b[49m\u001b[43m)\u001b[49m\n",
      "\u001b[36mFile \u001b[39m\u001b[32m~/anaconda3/lib/python3.12/site-packages/xgboost/training.py:184\u001b[39m, in \u001b[36mtrain\u001b[39m\u001b[34m(params, dtrain, num_boost_round, evals, obj, maximize, early_stopping_rounds, evals_result, verbose_eval, xgb_model, callbacks, custom_metric)\u001b[39m\n\u001b[32m    182\u001b[39m         \u001b[38;5;28;01mbreak\u001b[39;00m\n\u001b[32m    183\u001b[39m     bst.update(dtrain, iteration=i, fobj=obj)\n\u001b[32m--> \u001b[39m\u001b[32m184\u001b[39m     \u001b[38;5;28;01mif\u001b[39;00m \u001b[43mcb_container\u001b[49m\u001b[43m.\u001b[49m\u001b[43mafter_iteration\u001b[49m\u001b[43m(\u001b[49m\u001b[43mbst\u001b[49m\u001b[43m,\u001b[49m\u001b[43m \u001b[49m\u001b[43mi\u001b[49m\u001b[43m,\u001b[49m\u001b[43m \u001b[49m\u001b[43mdtrain\u001b[49m\u001b[43m,\u001b[49m\u001b[43m \u001b[49m\u001b[43mevals\u001b[49m\u001b[43m)\u001b[49m:\n\u001b[32m    185\u001b[39m         \u001b[38;5;28;01mbreak\u001b[39;00m\n\u001b[32m    187\u001b[39m bst = cb_container.after_training(bst)\n",
      "\u001b[36mFile \u001b[39m\u001b[32m~/anaconda3/lib/python3.12/site-packages/xgboost/callback.py:264\u001b[39m, in \u001b[36mCallbackContainer.after_iteration\u001b[39m\u001b[34m(self, model, epoch, dtrain, evals)\u001b[39m\n\u001b[32m    262\u001b[39m \u001b[38;5;28;01mfor\u001b[39;00m _, name \u001b[38;5;129;01min\u001b[39;00m evals:\n\u001b[32m    263\u001b[39m     \u001b[38;5;28;01massert\u001b[39;00m name.find(\u001b[33m\"\u001b[39m\u001b[33m-\u001b[39m\u001b[33m\"\u001b[39m) == -\u001b[32m1\u001b[39m, \u001b[33m\"\u001b[39m\u001b[33mDataset name should not contain `-`\u001b[39m\u001b[33m\"\u001b[39m\n\u001b[32m--> \u001b[39m\u001b[32m264\u001b[39m score: \u001b[38;5;28mstr\u001b[39m = \u001b[43mmodel\u001b[49m\u001b[43m.\u001b[49m\u001b[43meval_set\u001b[49m\u001b[43m(\u001b[49m\u001b[43mevals\u001b[49m\u001b[43m,\u001b[49m\u001b[43m \u001b[49m\u001b[43mepoch\u001b[49m\u001b[43m,\u001b[49m\u001b[43m \u001b[49m\u001b[38;5;28;43mself\u001b[39;49m\u001b[43m.\u001b[49m\u001b[43mmetric\u001b[49m\u001b[43m,\u001b[49m\u001b[43m \u001b[49m\u001b[38;5;28;43mself\u001b[39;49m\u001b[43m.\u001b[49m\u001b[43m_output_margin\u001b[49m\u001b[43m)\u001b[49m\n\u001b[32m    265\u001b[39m metric_score = _parse_eval_str(score)\n\u001b[32m    266\u001b[39m \u001b[38;5;28mself\u001b[39m._update_history(metric_score, epoch)\n",
      "\u001b[36mFile \u001b[39m\u001b[32m~/anaconda3/lib/python3.12/site-packages/xgboost/core.py:2353\u001b[39m, in \u001b[36mBooster.eval_set\u001b[39m\u001b[34m(self, evals, iteration, feval, output_margin)\u001b[39m\n\u001b[32m   2350\u001b[39m evnames = c_array(ctypes.c_char_p, [c_str(d[\u001b[32m1\u001b[39m]) \u001b[38;5;28;01mfor\u001b[39;00m d \u001b[38;5;129;01min\u001b[39;00m evals])\n\u001b[32m   2351\u001b[39m msg = ctypes.c_char_p()\n\u001b[32m   2352\u001b[39m _check_call(\n\u001b[32m-> \u001b[39m\u001b[32m2353\u001b[39m     \u001b[43m_LIB\u001b[49m\u001b[43m.\u001b[49m\u001b[43mXGBoosterEvalOneIter\u001b[49m\u001b[43m(\u001b[49m\n\u001b[32m   2354\u001b[39m \u001b[43m        \u001b[49m\u001b[38;5;28;43mself\u001b[39;49m\u001b[43m.\u001b[49m\u001b[43mhandle\u001b[49m\u001b[43m,\u001b[49m\n\u001b[32m   2355\u001b[39m \u001b[43m        \u001b[49m\u001b[43mctypes\u001b[49m\u001b[43m.\u001b[49m\u001b[43mc_int\u001b[49m\u001b[43m(\u001b[49m\u001b[43miteration\u001b[49m\u001b[43m)\u001b[49m\u001b[43m,\u001b[49m\n\u001b[32m   2356\u001b[39m \u001b[43m        \u001b[49m\u001b[43mdmats\u001b[49m\u001b[43m,\u001b[49m\n\u001b[32m   2357\u001b[39m \u001b[43m        \u001b[49m\u001b[43mevnames\u001b[49m\u001b[43m,\u001b[49m\n\u001b[32m   2358\u001b[39m \u001b[43m        \u001b[49m\u001b[43mc_bst_ulong\u001b[49m\u001b[43m(\u001b[49m\u001b[38;5;28;43mlen\u001b[39;49m\u001b[43m(\u001b[49m\u001b[43mevals\u001b[49m\u001b[43m)\u001b[49m\u001b[43m)\u001b[49m\u001b[43m,\u001b[49m\n\u001b[32m   2359\u001b[39m \u001b[43m        \u001b[49m\u001b[43mctypes\u001b[49m\u001b[43m.\u001b[49m\u001b[43mbyref\u001b[49m\u001b[43m(\u001b[49m\u001b[43mmsg\u001b[49m\u001b[43m)\u001b[49m\u001b[43m,\u001b[49m\n\u001b[32m   2360\u001b[39m \u001b[43m    \u001b[49m\u001b[43m)\u001b[49m\n\u001b[32m   2361\u001b[39m )\n\u001b[32m   2362\u001b[39m \u001b[38;5;28;01massert\u001b[39;00m msg.value \u001b[38;5;129;01mis\u001b[39;00m \u001b[38;5;129;01mnot\u001b[39;00m \u001b[38;5;28;01mNone\u001b[39;00m\n\u001b[32m   2363\u001b[39m res = msg.value.decode()  \u001b[38;5;66;03m# pylint: disable=no-member\u001b[39;00m\n",
      "\u001b[31mKeyboardInterrupt\u001b[39m: "
     ]
    }
   ],
   "source": [
    "search_space = {\n",
    "    'max_depth': scope.int(hp.quniform('max_depth', 4, 100, 1)),\n",
    "    'learning_rate': hp.loguniform('learning_rate', -3, 0),\n",
    "    'reg_alpha': hp.loguniform('reg_alpha', -5, -1),\n",
    "    'reg_lambda': hp.loguniform('reg_lambda', -6, -1),\n",
    "    'min_child_weight': hp.loguniform('min_child_weight', -1, 3),\n",
    "    'objective': 'reg:linear',\n",
    "    'seed': 42\n",
    "}\n",
    "\n",
    "best_result = fmin(\n",
    "    fn=objective,\n",
    "    space=search_space,\n",
    "    algo=tpe.suggest,\n",
    "    max_evals=50,\n",
    "    trials=Trials()\n",
    ")"
   ]
  },
  {
   "cell_type": "code",
   "execution_count": 29,
   "id": "734b767f-b130-4f39-aa7d-58b02fd4c0fa",
   "metadata": {},
   "outputs": [
    {
     "name": "stderr",
     "output_type": "stream",
     "text": [
      "/home/codespace/anaconda3/lib/python3.12/site-packages/xgboost/callback.py:386: UserWarning: [19:16:58] WARNING: /workspace/src/objective/regression_obj.cu:250: reg:linear is now deprecated in favor of reg:squarederror.\n",
      "  self.starting_round = model.num_boosted_rounds()\n"
     ]
    },
    {
     "name": "stdout",
     "output_type": "stream",
     "text": [
      "[0]\tvalidation-rmse:8.15805\n",
      "[1]\tvalidation-rmse:6.87305\n",
      "[2]\tvalidation-rmse:6.03719\n",
      "[3]\tvalidation-rmse:5.50058\n",
      "[4]\tvalidation-rmse:5.17528\n",
      "[5]\tvalidation-rmse:4.97317\n",
      "[6]\tvalidation-rmse:4.85050\n",
      "[7]\tvalidation-rmse:4.77633\n",
      "[8]\tvalidation-rmse:4.72091\n",
      "[9]\tvalidation-rmse:4.68974\n",
      "[10]\tvalidation-rmse:4.66866\n",
      "[11]\tvalidation-rmse:4.65416\n",
      "[12]\tvalidation-rmse:4.64301\n",
      "[13]\tvalidation-rmse:4.63290\n",
      "[14]\tvalidation-rmse:4.62694\n",
      "[15]\tvalidation-rmse:4.62069\n",
      "[16]\tvalidation-rmse:4.61663\n",
      "[17]\tvalidation-rmse:4.61310\n",
      "[18]\tvalidation-rmse:4.60904\n",
      "[19]\tvalidation-rmse:4.60729\n",
      "[20]\tvalidation-rmse:4.60468\n",
      "[21]\tvalidation-rmse:4.60334\n",
      "[22]\tvalidation-rmse:4.60145\n",
      "[23]\tvalidation-rmse:4.59835\n",
      "[24]\tvalidation-rmse:4.59618\n",
      "[25]\tvalidation-rmse:4.59423\n",
      "[26]\tvalidation-rmse:4.59350\n",
      "[27]\tvalidation-rmse:4.58978\n",
      "[28]\tvalidation-rmse:4.58815\n",
      "[29]\tvalidation-rmse:4.58753\n",
      "[30]\tvalidation-rmse:4.57913\n",
      "[31]\tvalidation-rmse:4.57844\n",
      "[32]\tvalidation-rmse:4.57719\n",
      "[33]\tvalidation-rmse:4.57535\n",
      "[34]\tvalidation-rmse:4.57488\n",
      "[35]\tvalidation-rmse:4.57263\n",
      "[36]\tvalidation-rmse:4.57128\n",
      "[37]\tvalidation-rmse:4.57072\n",
      "[38]\tvalidation-rmse:4.57014\n",
      "[39]\tvalidation-rmse:4.56907\n",
      "[40]\tvalidation-rmse:4.56849\n",
      "[41]\tvalidation-rmse:4.56757\n",
      "[42]\tvalidation-rmse:4.56612\n",
      "[43]\tvalidation-rmse:4.56561\n",
      "[44]\tvalidation-rmse:4.56314\n",
      "[45]\tvalidation-rmse:4.56177\n",
      "[46]\tvalidation-rmse:4.55826\n",
      "[47]\tvalidation-rmse:4.55744\n",
      "[48]\tvalidation-rmse:4.55732\n",
      "[49]\tvalidation-rmse:4.55703\n",
      "[50]\tvalidation-rmse:4.55674\n",
      "[51]\tvalidation-rmse:4.55667\n",
      "[52]\tvalidation-rmse:4.55545\n",
      "[53]\tvalidation-rmse:4.55476\n",
      "[54]\tvalidation-rmse:4.55355\n",
      "[55]\tvalidation-rmse:4.55298\n",
      "[56]\tvalidation-rmse:4.55274\n",
      "[57]\tvalidation-rmse:4.55240\n",
      "[58]\tvalidation-rmse:4.55196\n",
      "[59]\tvalidation-rmse:4.55115\n"
     ]
    },
    {
     "name": "stderr",
     "output_type": "stream",
     "text": [
      "/home/codespace/anaconda3/lib/python3.12/site-packages/mlflow/xgboost/__init__.py:168: UserWarning: [19:18:02] WARNING: /workspace/src/c_api/c_api.cc:1427: Saving model in the UBJSON format as default.  You can use file extension: `json`, `ubj` or `deprecated` to choose between formats.\n",
      "  xgb_model.save_model(model_data_path)\n",
      "\u001b[31m2025/05/25 19:18:06 WARNING mlflow.models.model: Model logged without a signature and input example. Please set `input_example` parameter when logging the model to auto infer the model signature.\u001b[0m\n"
     ]
    }
   ],
   "source": [
    "with mlflow.start_run():\n",
    "    train = xgb.DMatrix(X_train, label=y_train)\n",
    "    valid = xgb.DMatrix(X_val, label=y_val)\n",
    "    \n",
    "    selected_params = {\n",
    "        \"learning_rate\": 0.26,\n",
    "        \"max_depth\": 34,\n",
    "        \"min_child_weight\": 9.692039304772168,\n",
    "        \"objective\": \"reg:linear\",\n",
    "        \"reg_alpha\": 0.046993480968278975,\n",
    "        \"reg_lambda\": 0.014229494746605674,\n",
    "        \"seed\": 42\n",
    "    }\n",
    "    mlflow.log_params(selected_params)\n",
    "    \n",
    "    booster = xgb.train(\n",
    "                params=selected_params,\n",
    "                dtrain=train,\n",
    "                num_boost_round=60,\n",
    "                evals=[(valid, 'validation')],\n",
    "                early_stopping_rounds=20\n",
    "            )\n",
    "    y_pred = booster.predict(valid)\n",
    "    rmse = np.sqrt(mean_squared_error(y_val, y_pred))\n",
    "    mlflow.log_metric(\"rmse\", rmse)\n",
    "    \n",
    "    with open(\"models/preprocessor.b\", \"wb\") as f_out:\n",
    "        pickle.dump(dv, f_out)\n",
    "        \n",
    "    mlflow.log_artifact(\"models/preprocessor.b\", artifact_path=\"preprocessor\")\n",
    "    \n",
    "    mlflow.xgboost.log_model(booster, artifact_path=\"models_mlflow\")"
   ]
  },
  {
   "cell_type": "markdown",
   "id": "4defcb9c-ec6a-4ed1-ba88-f840071d83fa",
   "metadata": {},
   "source": [
    "Predict with the model"
   ]
  },
  {
   "cell_type": "code",
   "execution_count": 30,
   "id": "da3727af-6dfe-42cd-8ac6-228c4e2a1c74",
   "metadata": {},
   "outputs": [],
   "source": [
    "logged_model = 'runs:/dcf79c2a35f54616b26240f54ece4c27/models_mlflow'\n",
    "\n",
    "# Load model as a PyFuncModel.\n",
    "loaded_model = mlflow.pyfunc.load_model(logged_model)\n"
   ]
  },
  {
   "cell_type": "code",
   "execution_count": 31,
   "id": "792201c6-336e-4170-ad59-c91ed5396a01",
   "metadata": {},
   "outputs": [
    {
     "data": {
      "text/plain": [
       "mlflow.pyfunc.loaded_model:\n",
       "  artifact_path: models_mlflow\n",
       "  flavor: mlflow.xgboost\n",
       "  run_id: dcf79c2a35f54616b26240f54ece4c27"
      ]
     },
     "execution_count": 31,
     "metadata": {},
     "output_type": "execute_result"
    }
   ],
   "source": [
    "loaded_model"
   ]
  },
  {
   "cell_type": "code",
   "execution_count": 32,
   "id": "d1994dcd-08f8-446d-9f53-e968492ec026",
   "metadata": {},
   "outputs": [],
   "source": [
    "xgboost_model = mlflow.xgboost.load_model(logged_model)"
   ]
  },
  {
   "cell_type": "code",
   "execution_count": 33,
   "id": "ec373b94-761f-428e-b69f-ed6e4a9da8db",
   "metadata": {},
   "outputs": [
    {
     "data": {
      "text/plain": [
       "<xgboost.core.Booster at 0x7868d1e322d0>"
      ]
     },
     "execution_count": 33,
     "metadata": {},
     "output_type": "execute_result"
    }
   ],
   "source": [
    "xgboost_model"
   ]
  },
  {
   "cell_type": "code",
   "execution_count": 34,
   "id": "023c67a6-ea77-4800-810a-6eb571af904a",
   "metadata": {},
   "outputs": [],
   "source": [
    "t_t_pred = xgboost_model.predict(valid)"
   ]
  },
  {
   "cell_type": "code",
   "execution_count": 35,
   "id": "b42b6366-e990-49da-863e-35827eb04e8c",
   "metadata": {},
   "outputs": [
    {
     "data": {
      "text/plain": [
       "array([ 3.142294 , 43.56321  , 15.531823 , 22.173428 , 23.68785  ,\n",
       "        7.1937356, 18.131138 ,  4.094047 ,  5.4557652,  9.429992 ],\n",
       "      dtype=float32)"
      ]
     },
     "execution_count": 35,
     "metadata": {},
     "output_type": "execute_result"
    }
   ],
   "source": [
    "t_t_pred[:10]"
   ]
  },
  {
   "cell_type": "code",
   "execution_count": null,
   "id": "449ebcce-e60c-4717-ba5f-25b65ebcd789",
   "metadata": {},
   "outputs": [],
   "source": []
  },
  {
   "cell_type": "markdown",
   "id": "72cb1678-b312-4cdb-a331-e0f8b15f17d0",
   "metadata": {},
   "source": [
    "Model Deployment"
   ]
  },
  {
   "cell_type": "code",
   "execution_count": 2,
   "id": "fdccccd2-d3cb-47da-9286-45034bfcaecc",
   "metadata": {},
   "outputs": [],
   "source": [
    "from mlflow.tracking import MlflowClient\n",
    "\n",
    "MLFLOW_TRACKING_URI = \"sqlite:///mlflow.db\"\n",
    "\n",
    "client = MlflowClient(tracking_uri=MLFLOW_TRACKING_URI)"
   ]
  },
  {
   "cell_type": "code",
   "execution_count": 34,
   "id": "041a5465-9147-441a-b0ea-c7049106f10c",
   "metadata": {},
   "outputs": [
    {
     "data": {
      "text/plain": [
       "'2'"
      ]
     },
     "execution_count": 34,
     "metadata": {},
     "output_type": "execute_result"
    }
   ],
   "source": [
    "client.create_experiment(name=\"my-experiment\")"
   ]
  },
  {
   "cell_type": "code",
   "execution_count": 38,
   "id": "b4cb0af2",
   "metadata": {},
   "outputs": [],
   "source": [
    "runs= client.search_runs(\n",
    "    experiment_ids ='1',\n",
    "    filter_string=\"\",\n",
    "    #run_view_type=ViewType.ACTIVE_ONLY,\n",
    "    max_results=5,\n",
    "    order_by=[\"metrics.rmse ASC\"]\n",
    ")"
   ]
  },
  {
   "cell_type": "code",
   "execution_count": 40,
   "id": "caae55bf-c768-4b8f-ab06-cb944b0657bf",
   "metadata": {},
   "outputs": [
    {
     "name": "stdout",
     "output_type": "stream",
     "text": [
      "run id: dcf79c2a35f54616b26240f54ece4c27, rmse: 4.5405\n",
      "run id: b4d1d772afab4b2f9c3824023dc0f1b6, rmse: 4.5409\n",
      "run id: cf662cbaa4d849598a41d9c56533960b, rmse: 4.5512\n",
      "run id: c209e08994e0426691ad6ed06603f9b5, rmse: 4.5513\n",
      "run id: 724ff8e81efa4075b82186544075c7bc, rmse: 4.5565\n"
     ]
    }
   ],
   "source": [
    "for run in runs:\n",
    "    print(f\"run id: {run.info.run_id}, rmse: {run.data.metrics['rmse']:.4f}\")"
   ]
  },
  {
   "cell_type": "code",
   "execution_count": 42,
   "id": "ed924daf-c27b-4d5c-ae77-76ae7bf02ad0",
   "metadata": {},
   "outputs": [],
   "source": [
    "import mlflow\n",
    "\n",
    "mlflow.set_tracking_uri(MLFLOW_TRACKING_URI)"
   ]
  },
  {
   "cell_type": "code",
   "execution_count": 43,
   "id": "53d0998c-b73d-4f1a-a547-7240cad7717e",
   "metadata": {},
   "outputs": [
    {
     "name": "stderr",
     "output_type": "stream",
     "text": [
      "Registered model 'nyc-taxi-regressor' already exists. Creating a new version of this model...\n",
      "Created version '4' of model 'nyc-taxi-regressor'.\n"
     ]
    },
    {
     "data": {
      "text/plain": [
       "<ModelVersion: aliases=[], creation_timestamp=1748202072261, current_stage='None', description=None, last_updated_timestamp=1748202072261, name='nyc-taxi-regressor', run_id='724ff8e81efa4075b82186544075c7bc', run_link=None, source='/workspaces/mlops-zoomcamp/02-experiment-tracking/mlruns/1/724ff8e81efa4075b82186544075c7bc/artifacts/model', status='READY', status_message=None, tags={}, user_id=None, version=4>"
      ]
     },
     "execution_count": 43,
     "metadata": {},
     "output_type": "execute_result"
    }
   ],
   "source": [
    "run_id=\"724ff8e81efa4075b82186544075c7bc\"\n",
    "model_uri= f\"runs:/{run_id}/model\"\n",
    "\n",
    "\n",
    "mlflow.register_model(model_uri=model_uri, name=\"nyc-taxi-regressor\")"
   ]
  },
  {
   "cell_type": "code",
   "execution_count": 44,
   "id": "ff073b80-850f-4a56-b7b1-4ab3b0dc2d67",
   "metadata": {},
   "outputs": [
    {
     "data": {
      "text/plain": [
       "'runs:/724ff8e81efa4075b82186544075c7bc/model'"
      ]
     },
     "execution_count": 44,
     "metadata": {},
     "output_type": "execute_result"
    }
   ],
   "source": [
    "model_uri"
   ]
  },
  {
   "cell_type": "code",
   "execution_count": 50,
   "id": "41e0d1f4-848b-4c0d-ba8e-c87189b9893f",
   "metadata": {},
   "outputs": [
    {
     "name": "stdout",
     "output_type": "stream",
     "text": [
      "version: 4\n"
     ]
    },
    {
     "name": "stderr",
     "output_type": "stream",
     "text": [
      "/tmp/ipykernel_7450/786377316.py:2: FutureWarning: ``mlflow.tracking.client.MlflowClient.get_latest_versions`` is deprecated since 2.9.0. Model registry stages will be removed in a future major release. To learn more about the deprecation of model registry stages, see our migration guide here: https://mlflow.org/docs/latest/model-registry.html#migrating-from-stages\n",
      "  latest_versions = client.get_latest_versions(name=model_name)\n"
     ]
    }
   ],
   "source": [
    "model_name = \"nyc-taxi-regressor\"\n",
    "latest_versions = client.get_latest_versions(name=model_name)\n",
    "for version in latest_versions:\n",
    "    print(f\"version: {version.version}\")"
   ]
  },
  {
   "cell_type": "code",
   "execution_count": null,
   "id": "50a00a8f-8910-44d1-a5b1-7988a4c3d1de",
   "metadata": {},
   "outputs": [],
   "source": []
  }
 ],
 "metadata": {
  "kernelspec": {
   "display_name": "Python 3 (ipykernel)",
   "language": "python",
   "name": "python3"
  },
  "language_info": {
   "codemirror_mode": {
    "name": "ipython",
    "version": 3
   },
   "file_extension": ".py",
   "mimetype": "text/x-python",
   "name": "python",
   "nbconvert_exporter": "python",
   "pygments_lexer": "ipython3",
   "version": "3.12.7"
  }
 },
 "nbformat": 4,
 "nbformat_minor": 5
}
